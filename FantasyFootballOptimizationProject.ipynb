{
  "nbformat": 4,
  "nbformat_minor": 0,
  "metadata": {
    "colab": {
      "provenance": [],
      "include_colab_link": true
    },
    "kernelspec": {
      "name": "python3",
      "display_name": "Python 3"
    },
    "language_info": {
      "name": "python"
    }
  },
  "cells": [
    {
      "cell_type": "markdown",
      "metadata": {
        "id": "view-in-github",
        "colab_type": "text"
      },
      "source": [
        "<a href=\"https://colab.research.google.com/github/Audrey-Stuart0/Optimization-Project/blob/main/FantasyFootballOptimizationProject.ipynb\" target=\"_parent\"><img src=\"https://colab.research.google.com/assets/colab-badge.svg\" alt=\"Open In Colab\"/></a>"
      ]
    },
    {
      "cell_type": "markdown",
      "source": [
        "importing all necessary libraries and connecting to my google drive so I can access data"
      ],
      "metadata": {
        "id": "SideXxPnohPs"
      }
    },
    {
      "cell_type": "code",
      "execution_count": null,
      "metadata": {
        "id": "hsNeN_vIW17w"
      },
      "outputs": [],
      "source": [
        "# Importing libraries for data visualization, manipulation, and optimization\n",
        "import seaborn as sns  # Used for creating statistical graphics\n",
        "import pandas as pd  # Used for data manipulation and analysis (DataFrames)\n",
        "import pyomo.environ as pe  # Used for optimization modeling\n",
        "import pyomo.environ as pyo  # this is clearly reduntant but I used different naming conventions on accident so it became necessary or else code would break\n",
        "from pyomo.opt import SolverFactory  # Used for solving optimization problems\n",
        "import matplotlib.pyplot as plt  # Used for creating visualizations\n",
        "from pyomo.environ import ConcreteModel, Var, Objective, Constraint, Binary  # Components for defining optimization models\n",
        "import numpy as np  # Used for numerical computing (arrays, math functions)"
      ]
    },
    {
      "cell_type": "code",
      "source": [
        "import os\n",
        "from google.colab import drive\n",
        "drive.mount('/content/drive')"
      ],
      "metadata": {
        "colab": {
          "base_uri": "https://localhost:8080/"
        },
        "id": "cCH5kNcwXGkF",
        "outputId": "2912739f-6927-43b3-9a04-349202011b65"
      },
      "execution_count": null,
      "outputs": [
        {
          "output_type": "stream",
          "name": "stdout",
          "text": [
            "Drive already mounted at /content/drive; to attempt to forcibly remount, call drive.mount(\"/content/drive\", force_remount=True).\n"
          ]
        }
      ]
    },
    {
      "cell_type": "markdown",
      "source": [
        "Reading in the data"
      ],
      "metadata": {
        "id": "TeMDCC-Gob_6"
      }
    },
    {
      "cell_type": "code",
      "source": [
        "os.chdir(\"/content/drive/My Drive/Colab Notebooks\")\n",
        "\n",
        "# Read CSV data\n",
        "w17_data = pd.read_csv('NFLWeek17Stats.csv')\n",
        "\n",
        "# Read Excel data (multiple sheets)\n",
        "season_data = pd.read_excel('NFL2024SeasonStats.xlsx', sheet_name=['PassStats', 'RushStats', 'RcvStats', 'DefStats'])\n",
        "\n",
        "# Read another CSV\n",
        "salaries_data = pd.read_csv('DKSalaries.csv')"
      ],
      "metadata": {
        "id": "tou3NMPSXIZM"
      },
      "execution_count": null,
      "outputs": []
    },
    {
      "cell_type": "markdown",
      "source": [
        "###Before going any further lets take a quick look at what data we will be using for this project"
      ],
      "metadata": {
        "id": "ZBrLty5HpZIf"
      }
    },
    {
      "cell_type": "markdown",
      "source": [
        "# Data Explanation\n",
        "\n",
        "## DK Salaries Excel File\n",
        "**Description:**  \n",
        "Contains players' salary and stat information (only one tab).\n",
        "\n",
        "**Data points:**\n",
        "- **Position**\n",
        "- **Name + ID**\n",
        "- **Name**\n",
        "- **ID**\n",
        "- **Roster Position**\n",
        "- **Salary**\n",
        "- **Game Info**\n",
        "- **TeamAbbrev**\n",
        "- **AvgPointsPerGame**\n",
        "\n",
        "---\n",
        "\n",
        "## NFL2024SeasonStats Excel File\n",
        "**Description:**  \n",
        "Contains information on all game stats for players. This file includes 4 tabs: **PassStats**, **RushStats**, **RcvStats**, and **DefStats**.\n",
        "\n",
        "### PassStats Tab\n",
        "**Data points:**\n",
        "- **Player**\n",
        "- **Age**\n",
        "- **Team**\n",
        "- **Pos** (player position)\n",
        "- **G** – Games Played\n",
        "- **GS** – Games Started\n",
        "- **Cmp** – Completions (number of completed passes)\n",
        "- **Att** – Pass Attempts\n",
        "- **Cmp%** – Completion Percentage\n",
        "- **Yds** – Passing Yards (total yards gained through completed passes)\n",
        "- **TD** – Touchdowns (total passing touchdowns)\n",
        "- **TD%** – Touchdown Percentage (TDs per pass attempt)\n",
        "- **Int** – Interceptions (total interceptions thrown)\n",
        "- **Int%** – Interception Percentage (INTs per pass attempt)\n",
        "- **1D** – First Downs (passes resulting in a first down)\n",
        "- **Succ%** – Success Rate (percentage of successful plays)\n",
        "- **Lng** – Longest Completed Pass (in yards)\n",
        "- **Y/A** – Yards per Attempt\n",
        "- **AY/A** – Adjusted Yards per Attempt (accounts for touchdowns and interceptions)\n",
        "- **Y/C** – Yards per Completion\n",
        "- **Y/G** – Yards per Game\n",
        "- **Rate** – Passer Rating\n",
        "- **QBR** – Total Quarterback Rating (ESPN’s metric)\n",
        "- **Sk** – Sacks\n",
        "- **Yds** – Sack Yards Lost\n",
        "- **Sk%** – Sack Percentage\n",
        "- **NY/A** – Net Yards per Attempt (accounts for sack yards lost)\n",
        "- **ANY/A** – Adjusted Net Yards per Attempt\n",
        "\n",
        "### RushStats Tab\n",
        "**Data points:**\n",
        "- **Player**\n",
        "- **Age**\n",
        "- **Team**\n",
        "- **Pos** (player position)\n",
        "- **G** – Games Played\n",
        "- **GS** – Games Started\n",
        "- **Att** – Rushing Attempts (number of times the player carried the ball)\n",
        "- **Yds** – Rushing Yards\n",
        "- **TD** – Rushing Touchdowns\n",
        "- **1D** – First Downs\n",
        "- **Succ%** – Success Rate (percentage of successful rush attempts)\n",
        "- **Lng** – Longest Rush\n",
        "- **Y/A** – Yards per Attempt\n",
        "- **Y/G** – Yards per Game\n",
        "- **A/G** – Attempts per Game\n",
        "- **Fmb** – Fumbles\n",
        "\n",
        "### RcvStats Tab\n",
        "**Data points:**\n",
        "- **RK** – Rank (based on performance)\n",
        "- **Player**\n",
        "- **Age**\n",
        "- **Team**\n",
        "- **Pos** (player position)\n",
        "- **G** – Games Played\n",
        "- **GS** – Games Started\n",
        "- **Tgt** – Targets (number of times the player was targeted with a pass)\n",
        "- **Rec** – Receptions (number of caught passes)\n",
        "- **Yds** – Receiving Yards\n",
        "- **Y/R** – Yards per Reception\n",
        "- **TD** – Receiving Touchdowns\n",
        "- **1D** – First Downs\n",
        "- **Succ%** – Success Rate (percentage of receptions leading to a successful play)\n",
        "- **Lng** – Longest Reception\n",
        "- **R/G** – Receptions per Game\n",
        "- **Y/G** – Yards per Game\n",
        "- **Ctch%** – Catch Percentage\n",
        "- **Y/Tgt** – Yards per Target\n",
        "- **Fmb** – Fumbles\n",
        "\n",
        "### DefStats Tab\n",
        "**Data points:**\n",
        "- **Tm** – Team Name\n",
        "- **G** – Games Played\n",
        "- **PA** – Points Allowed\n",
        "- **Yds** – Total Offensive Yards\n",
        "- **Ply** – Total Offensive Plays\n",
        "- **Y/P** – Yards per Play\n",
        "- **TO** – Turnovers\n",
        "- **FL** – Fumbles Lost\n",
        "- **1stD** – First Downs (by the offense)\n",
        "- **Pass Cmp** – Pass Completions\n",
        "- **Pass Att** – Pass Attempts\n",
        "- **Pass Yds** – Passing Yards\n",
        "- **Pass TD** – Passing Touchdowns\n",
        "- **Pass Int** – Passing Interceptions\n",
        "- **Pass NY/A** – Net Yards per Pass Attempt\n",
        "- **Pass 1stD** – First Downs by Passing\n",
        "- **Rush Att** – Rushing Attempts\n",
        "- **Rush Yds** – Rushing Yards\n",
        "- **Rush TD** – Rushing Touchdowns\n",
        "- **Rush 1stD** – First Downs from Rushing\n",
        "- **Pen** – Penalties\n",
        "- **Pen Yds** – Penalty Yards\n",
        "- **Pen 1stD** – First Downs Given Up Due to Penalties\n",
        "- **Score Drv Pct** – Scoring Drive Percentage\n",
        "- **TO Drv Pct** – Turnover Drive Percentage\n",
        "- **Exp Pts Contributed** – Expected Points Contributed\n",
        "\n",
        "---\n",
        "\n",
        "## NFLWeek17Stats Excel File\n",
        "**Description:**  \n",
        "Contains detailed game stats for Week 17.\n",
        "\n",
        "**Data points:**\n",
        "- **Player**\n",
        "- **Tm**\n",
        "- **Pass Cmp** – Pass Completions\n",
        "- **Pass Att** – Pass Attempts\n",
        "- **Pass Yds** – Passing Yards\n",
        "- **Pass TD** – Passing Touchdowns\n",
        "- **Pass Int** – Interceptions Thrown\n",
        "- **Pass Sack** – Number of Times Sacked\n",
        "- **Pass Sack Yds** – Total Sack Yards Lost\n",
        "- **Pass Long Complete** – Longest Completed Pass\n",
        "- **Rush Att** – Rushing Attempts (*Note: Listed as \"Ruch Att\" in the file*)\n",
        "- **Rush Yds** – Rushing Yards\n",
        "- **Rush TD** – Rushing Touchdowns\n",
        "- **Rush Lng** – Longest Rush\n",
        "- **Rcv Tgt** – Receiving Targets\n",
        "- **Rec** – Receptions\n",
        "- **Rcv Yds** – Receiving Yards\n",
        "- **Rcv TD** – Receiving Touchdowns\n",
        "- **Rcv Lng** – Longest Reception\n",
        "- **Fmb** – Fumbles\n",
        "- **FL** – Fumbles Lost\n",
        "- **2Pt Conversions** – Successful Two-Point Conversions\n",
        "- **Ttl Pts Allowed** – Total Points Allowed (mostly for defenders)\n",
        "- **Safety** – Safeties\n",
        "- **Blocked Kicks** – Field Goals or Punts Blocked\n",
        "- **Sack** – Sacks on Opposing Quarterback\n",
        "- **Interception** – Interceptions Made\n",
        "- **Fumble Recovery** – Fumbles Recovered\n",
        "- **Punt/Kickoff/FG Return for TD** – Return Touchdowns\n",
        "- **Interception Return TD** – Touchdowns on Interception Returns\n",
        "- **Fumble Recovery TD** – Touchdowns on Fumble Recoveries\n",
        "- **Blocked Punt or FG Return TD** – Touchdowns on Blocked Plays"
      ],
      "metadata": {
        "id": "nEvOD9RYpfHZ"
      }
    },
    {
      "cell_type": "markdown",
      "source": [
        "###Necissary additional column for later steps:\n",
        "Before merging defense_season and salaries_defense I need to make it so they have matching columns. Currently I have a Tm column in defense_season that holds the entire name of the team including the city and then I have a Name column that contains the name of the team without the city in the salaries defense data. In order to make this data merge I will reimport the data so it is not cleaned. Then I will split the Name portion out of the defense_salaries Tm column so I can map it to the Name column in salaries defense"
      ],
      "metadata": {
        "id": "FxmGPWeNwC2S"
      }
    },
    {
      "cell_type": "code",
      "source": [
        "#exrtract the DefStats sheet\n",
        "defense_season = season_data['DefStats']\n",
        "\n",
        "# Extract the 'Tm' column\n",
        "tm_column = defense_season['Tm']\n",
        "\n",
        "# Create a new 'Team' column by extracting the last word of each 'Tm' entry\n",
        "defense_season['Team'] = tm_column.str.split().str[-1]\n",
        "\n",
        "# Display the updated DataFrame (optional)\n",
        "#defense_season\n"
      ],
      "metadata": {
        "id": "VvTg5cBWusbp"
      },
      "execution_count": null,
      "outputs": []
    },
    {
      "cell_type": "markdown",
      "source": [
        "Now lets clean the data so its easier to use and data merges properly"
      ],
      "metadata": {
        "id": "65aYQ_LgpBu6"
      }
    },
    {
      "cell_type": "code",
      "source": [
        "# Remove suffixes from 'Name' column in salaries_data\n",
        "#Name column because thats what I merge on\n",
        "salaries_data['Name'] = salaries_data['Name'].str.replace(r'\\s*\\(.*\\)', '', regex=True).str.strip()\n",
        "\n",
        "# Remove suffixes from 'Player' column in Season_data (assuming it's a DataFrame, not a dictionary)\n",
        "#(player column because thats the column I use to merge)\n",
        "for sheet_name, df in season_data.items():\n",
        "    if 'Player' in df.columns:\n",
        "        season_data[sheet_name]['Player'] = df['Player'].str.replace(r'\\s*\\(.*\\)', '', regex=True).str.strip()\n"
      ],
      "metadata": {
        "id": "LLSJViY3b99g"
      },
      "execution_count": null,
      "outputs": []
    },
    {
      "cell_type": "code",
      "source": [
        "import re #a module that allows for text manipulation and pattern matching\n",
        "\n",
        "def clean_column(df, column_name): #defines a clean function column that takes two parameters, a dataframe and a column\n",
        "  df[column_name] = df[column_name].astype(str).str.lower() #double checks everything is a string and then converts everything to lowercase\n",
        "  df[column_name] = df[column_name].apply(lambda x: re.sub(r'[^a-zA-Z0-9]', '', x))#Uses re.sub() to remove anything that is NOT a letter or number,\n",
        "    # ^ → Negates the match (everything except letters and numbers)., a-zA-Z0-9 → Keeps only letters (both uppercase & lowercase) and numbers.\n",
        "  df[column_name] = df[column_name].replace('nan', 0)#replaces all nan values with 0s\n",
        "  return df#Returns the modified DataFrame after cleaning\n",
        "\n",
        "\n",
        "# useds the clean_column function to clean Player columns in season_data\n",
        "for sheet_name in ['PassStats', 'RushStats', 'RcvStats']:\n",
        "  season_data[sheet_name] = clean_column(season_data[sheet_name], 'Player')\n",
        "\n",
        "# Clean Name column in salaries_data\n",
        "salaries_data = clean_column(salaries_data, 'Name')\n",
        "\n",
        "# uses the clean_colum function to clean Tm column in DefStats\n",
        "season_data['DefStats'] = clean_column(season_data['DefStats'], 'Tm')\n"
      ],
      "metadata": {
        "id": "QMTlLDtJXR-n"
      },
      "execution_count": null,
      "outputs": []
    },
    {
      "cell_type": "markdown",
      "source": [
        "I had to clean the Player column specifically because I was losing certain players when I merged the salary data and the w17_data because of mitch match naming conventions"
      ],
      "metadata": {
        "id": "jo4IX8zdazSK"
      }
    },
    {
      "cell_type": "code",
      "source": [
        "#stupidly made a second clean_column function. I initially thought I would need a second one because i thought i would need to clean each\n",
        "#column in a different way but it turned out that I needed the same functionalitly for both so this one ended up being redundant\n",
        "def clean_column(df, column_name):\n",
        "    df[column_name] = df[column_name].astype(str).str.lower()\n",
        "    df[column_name] = df[column_name].apply(lambda x: re.sub(r'[^a-zA-Z0-9]', '', x))\n",
        "    df[column_name] = df[column_name].replace('nan', 0)\n",
        "    return df\n",
        "\n",
        "# Clean Player column in w17_data\n",
        "w17_data = clean_column(w17_data, 'Player')"
      ],
      "metadata": {
        "id": "l0MfAE5fa4TM"
      },
      "execution_count": null,
      "outputs": []
    },
    {
      "cell_type": "code",
      "source": [
        "# Extract individual sheets from the Excel file\n",
        "#In case I need to access them seperatly or in case I want to add specific sheets to other data frames this makes it easier for later use\n",
        "pass_stats = season_data['PassStats']\n",
        "rush_stats = season_data['RushStats']\n",
        "rcv_stats = season_data['RcvStats']\n",
        "def_stats = season_data['DefStats']"
      ],
      "metadata": {
        "id": "miWp1wNWZovs"
      },
      "execution_count": null,
      "outputs": []
    },
    {
      "cell_type": "markdown",
      "source": [
        "##Splitting week 17 data into offense and defense\n",
        "\n",
        "I decided to split my data into offense and defense and heres why:\n",
        "\n",
        "Different Scoring Systems\n",
        "- Offensive and defensive players contribute to fantasy points using entirely different criteria. Offense focuses on yards, touchdowns, and receptions, while defense earns points through sacks, turnovers, and points allowed. Separating them ensures accurate optimization based on relevant performance metrics.\n",
        "\n",
        "Distinct Player Selection Strategies\n",
        "\n",
        "- The selection criteria for offensive and defensive players differ. Offensive players are chosen based on their ability to accumulate yards and touchdowns, whereas defenses are evaluated by their ability to limit opponent scoring and force turnovers. Splitting the data allows for tailored decision-making for each group.\n",
        "\n",
        "Flexibility in Lineup Construction\n",
        "\n",
        "- In fantasy football, offensive players have multiple positions (QB, RB, WR, TE, FLEX), while defense is selected as a single unit (DST). Keeping offense and defense separate ensures the optimization model correctly handles positional constraints and avoids misallocations."
      ],
      "metadata": {
        "id": "0-V_bX5hZ9Nw"
      }
    },
    {
      "cell_type": "code",
      "source": [
        "offense_week17 = w17_data.iloc[0:322].copy() #split at 322 because thats where defense data starts\n",
        "#offense_week17\n",
        "\n",
        "# Extract and print the defensive rows for the week data\n",
        "defense_week17 = w17_data.iloc[322:353].copy()\n",
        "#defense_week17"
      ],
      "metadata": {
        "id": "uuRnfixJZdaA"
      },
      "execution_count": null,
      "outputs": []
    },
    {
      "cell_type": "markdown",
      "source": [
        "Some of the team names in the week 17 data did not match the naming conventions of the salary data even though the teams were the same. In order to fix this I directly mapped the non matching teams so I would not lose any data."
      ],
      "metadata": {
        "id": "9zLHOBfpqr3B"
      }
    },
    {
      "cell_type": "code",
      "source": [
        "#change some of the Tm names so they will map better to salary data later on\n",
        "# Standardize team abbreviations in the 'Tm' column of defense_week17\n",
        "team_abbreviation_mapping = {\n",
        "    \"GNB\": \"GB\",\n",
        "    \"SFO\": \"SF\",\n",
        "    \"NOR\": \"NO\",\n",
        "    \"LVR\": \"LV\",\n",
        "    \"TAM\": \"TB\",\n",
        "    \"NEW\": \"NE\"\n",
        "}\n",
        "\n",
        "defense_week17[\"Tm\"] = defense_week17[\"Tm\"].replace(team_abbreviation_mapping)\n"
      ],
      "metadata": {
        "id": "RgVM4ksNj1fj"
      },
      "execution_count": null,
      "outputs": []
    },
    {
      "cell_type": "markdown",
      "source": [
        "###Seperating Salary into offense and defense\n",
        "\n",
        "In order to easily combine salary data to week 17 data and later on season data I split salary into offense and defense because thats how I sorted my week 17 and season data."
      ],
      "metadata": {
        "id": "2c5Wo5zeaHE3"
      }
    },
    {
      "cell_type": "code",
      "source": [
        "# Separate defense (DST) and offense players from salaries_data\n",
        "salaries_defense = salaries_data[salaries_data[\"Roster Position\"] == \"DST\"].copy()\n",
        "salaries_offense = salaries_data[salaries_data[\"Roster Position\"] != \"DST\"].copy()"
      ],
      "metadata": {
        "id": "IpiXR42VaHQo"
      },
      "execution_count": null,
      "outputs": []
    },
    {
      "cell_type": "markdown",
      "source": [
        "Adding salary data to the defense and offense week 17 data"
      ],
      "metadata": {
        "id": "KVEQ9HkoaAzg"
      }
    },
    {
      "cell_type": "code",
      "source": [
        "offense_week17 = pd.merge(salaries_offense, offense_week17, left_on='Name', right_on='Player', how='inner')\n",
        "#offense_week17"
      ],
      "metadata": {
        "id": "3idzTQIEZuby"
      },
      "execution_count": null,
      "outputs": []
    },
    {
      "cell_type": "code",
      "source": [
        "# Merge defense_season and salaries_defense on 'tm' and 'name' respectively\n",
        "defense_week17 = defense_week17.merge(salaries_defense, left_on='Tm', right_on='TeamAbbrev', how='inner')\n",
        "#defense_week17"
      ],
      "metadata": {
        "id": "d-IuJUNVc68o"
      },
      "execution_count": null,
      "outputs": []
    },
    {
      "cell_type": "markdown",
      "source": [
        "###Yay! Our data is all ready for question 1!\n",
        "\n",
        "So what is question 1?\n",
        "\n",
        "Question 1: The first problem will involve selecting the optimal lineup based on how the players\n",
        "performed during their actual games (i.e., the “cheat code” if you had it prior to selecting\n",
        "your lineup). What selection of NFL players would have created the best possible entry for\n",
        "this DraftKings competition?"
      ],
      "metadata": {
        "id": "KaWeIQMsrTgB"
      }
    },
    {
      "cell_type": "markdown",
      "source": [
        "###Calculate Offense and defense fantasy points\n",
        "\n",
        "In order to begin answering question one we need to create a function that properly calculates offense fantasy points and defense fantasy points. Below I created functions that calculate and add the calculated fantasy points to the offense_week17 and then the defense_week17. I followed every instruction given for the calculations and stated what each piece of the code is doing for clarity."
      ],
      "metadata": {
        "id": "hGOb5lLgrfSQ"
      }
    },
    {
      "cell_type": "code",
      "source": [
        "def calculate_offense_fantasy_points(row): #this function takes one parameter (row)\n",
        "    \"\"\"Calculate fantasy points for an offensive player.\"\"\"\n",
        "    offense_fantasy_points = 0\n",
        "\n",
        "    # Passing stats\n",
        "    offense_fantasy_points += 4 * row.get('Pass TD', 0)  # +4 pts per passing TD\n",
        "    offense_fantasy_points += 0.04 * row.get('Pass Yds', 0)  # +0.04 pts per passing yard\n",
        "    if row.get('Pass Yds', 0) >= 300:  # +3 pts for 300+ passing yards\n",
        "        offense_fantasy_points += 3\n",
        "    offense_fantasy_points += -1 * row.get('Pass Int', 0)  # -1 pt per interception\n",
        "\n",
        "    # Rushing stats\n",
        "    offense_fantasy_points += 6 * row.get('Rush TD', 0)  # +6 pts per rushing TD\n",
        "    offense_fantasy_points += 0.1 * row.get('Rush Yds', 0)  # +0.1 pts per rushing yard\n",
        "    if row.get('Rush Yds', 0) >= 100:  # +3 pts for 100+ rushing yards\n",
        "        offense_fantasy_points += 3\n",
        "\n",
        "    # Receiving stats\n",
        "    offense_fantasy_points += 6 * row.get('Rcv TD', 0)  # +6 pts per receiving TD\n",
        "    offense_fantasy_points += 0.1 * row.get('Rcv Yds', 0)  # +0.1 pts per receiving yard\n",
        "    if row.get('Rcv Yds', 0) >= 100:  # +3 pts for 100+ receiving yards\n",
        "        offense_fantasy_points += 3\n",
        "    offense_fantasy_points += 1 * row.get('Rec', 0)  # +1 pt per reception\n",
        "\n",
        "    # Miscellaneous\n",
        "    offense_fantasy_points += -1 * row.get('Fmb', 0)  # -1 pt per fumble lost\n",
        "    offense_fantasy_points += 2 * row.get('2pt Conversions', 0)  # +2 pts per 2-point conversion\n",
        "    offense_fantasy_points += 6 * row.get('Fumble Recovery TD', 0)  # +6 pts per offensive fumble recovery TD\n",
        "\n",
        "    # Special Teams / Miscellaneous\n",
        "    offense_fantasy_points += 6 * row.get('Punt/Kickoff/FG Return for TD', 0)\n",
        "\n",
        "    return offense_fantasy_points\n",
        "\n",
        "# Apply the function to create a new 'FantasyPoints' column\n",
        "offense_week17['FantasyPoints'] = offense_week17.apply(calculate_offense_fantasy_points, axis=1)\n",
        "#axis = 1 means it inserts the data row by row\n"
      ],
      "metadata": {
        "id": "JxQZ2tqDe8Ga"
      },
      "execution_count": null,
      "outputs": []
    },
    {
      "cell_type": "markdown",
      "source": [
        "Now for Defense"
      ],
      "metadata": {
        "id": "SdmJGf-jgUPB"
      }
    },
    {
      "cell_type": "code",
      "source": [
        "def calculate_defense_fantasy_points(row): #this function takes one parameter (row)\n",
        "    \"\"\"Calculate fantasy points for a defensive team.\"\"\"\n",
        "    defense_fantasy_points = 0\n",
        "\n",
        "    # Start the points at 0 to add to it\n",
        "    defense_fantasy_points = 0\n",
        "\n",
        "    # Defensive stats\n",
        "    defense_fantasy_points += 1 * row['Sack']  # +1 pt per sack\n",
        "    defense_fantasy_points += 2 * row['Interception']  # +2 pts per interception\n",
        "    defense_fantasy_points += 2 * row['Fumble Recovery']  # +2 pts per fumble recovery\n",
        "    defense_fantasy_points += 6 * row['Punt/Kickoff/FG Return for TD']  # +6 pts per return TD\n",
        "    defense_fantasy_points += 6 * row['Interception Return TD']  # +6 pts per interception return TD\n",
        "    defense_fantasy_points += 6 * row['Fumble Recovery TD']  # +6 pts per fumble recovery TD\n",
        "    defense_fantasy_points += 6 * row['Blocked Punt or FG Return TD']  # +6 pts per blocked punt/FG return TD\n",
        "    defense_fantasy_points += 2 * row['Safety']  # +2 pts per safety\n",
        "    defense_fantasy_points += 2 * row['Blocked Kicks']  # +2 pts per blocked kick\n",
        "    defense_fantasy_points += 2 * row['2Pt Conversions']  # +2 pts per 2pt conversion return\n",
        "\n",
        "    # Defensive Points Allowed\n",
        "    points_allowed = row.get('Ttl Pts Allowed', 0)  #Retrieves the total points allowed by the defense.\n",
        "                                                    #Uses .get('Ttl Pts Allowed', 0) to default to 0 if the column is missing.\n",
        "\n",
        "    if points_allowed == 0:\n",
        "        defense_fantasy_points += 10\n",
        "    elif 1 <= points_allowed <= 6:\n",
        "        defense_fantasy_points += 7\n",
        "    elif 7 <= points_allowed <= 13:\n",
        "        defense_fantasy_points += 4\n",
        "    elif 14 <= points_allowed <= 20:\n",
        "        defense_fantasy_points += 1\n",
        "    elif 21 <= points_allowed <= 27:\n",
        "        defense_fantasy_points += 0  # No points change\n",
        "    elif 28 <= points_allowed <= 34:\n",
        "        defense_fantasy_points -= 1\n",
        "    elif points_allowed >= 35:\n",
        "        defense_fantasy_points -= 4\n",
        "\n",
        "    return defense_fantasy_points\n",
        "\n",
        "\n",
        "    # Apply the function to each row in nfl_df\n",
        "defense_week17['Fantasy Score'] = defense_week17.apply(calculate_defense_fantasy_points, axis=1)\n",
        "#axis = 1 means it inserts the data row by row"
      ],
      "metadata": {
        "id": "xhj9g0yfgTwn"
      },
      "execution_count": null,
      "outputs": []
    },
    {
      "cell_type": "markdown",
      "source": [
        "Just checking if the columns added properly:"
      ],
      "metadata": {
        "id": "AVBZditgsEDT"
      }
    },
    {
      "cell_type": "code",
      "source": [
        "#defense_week17"
      ],
      "metadata": {
        "id": "EU2jOfGbj-nS"
      },
      "execution_count": null,
      "outputs": []
    },
    {
      "cell_type": "code",
      "source": [
        "#offense_week17"
      ],
      "metadata": {
        "id": "nqLx0dWfkSAp"
      },
      "execution_count": null,
      "outputs": []
    },
    {
      "cell_type": "markdown",
      "source": [
        "###Filtering by player position\n",
        "\n",
        "In order to \"easily\" calculate position-specific constraints and logic later in the optimization model I split the players up by position. In addition the goal of this optimization model is to select or not select each player with the goal of creating the highest scoring team. In order for the model to select or not select each player for each position it is easiest for the players to be split up by position."
      ],
      "metadata": {
        "id": "6IRIIPWcsITl"
      }
    },
    {
      "cell_type": "code",
      "source": [
        "# Filter players by position\n",
        "qbs = offense_week17[offense_week17['Position'] == 'QB'] #retrieves the position column in the offense_week17 data frame and then takes the rows where the data == QB\n",
        "rbs = offense_week17[offense_week17['Position'] == 'RB']\n",
        "wrs = offense_week17[offense_week17['Position'] == 'WR']\n",
        "tes = offense_week17[offense_week17['Position'] == 'TE']\n",
        "flex_players = pd.concat([rbs, wrs, tes]) # Combine RB, WR, and TE for FLEX\n",
        "dsts = defense_week17"
      ],
      "metadata": {
        "id": "SaAT-sCAkTcg"
      },
      "execution_count": null,
      "outputs": []
    },
    {
      "cell_type": "markdown",
      "source": [
        "Just a quick check to make sure we have data for each position before trying to run the model"
      ],
      "metadata": {
        "id": "B3l66vs6s1CD"
      }
    },
    {
      "cell_type": "code",
      "source": [
        "print(f\"Available QBs: {len(qbs)}\")\n",
        "print(f\"Available RBs: {len(rbs)}\")\n",
        "print(f\"Available WRs: {len(wrs)}\")\n",
        "print(f\"Available TEs: {len(tes)}\")\n",
        "print(f\"Available FLEX options: {len(flex_players)}\")\n",
        "print(f\"Available DSTs: {len(dsts)}\")"
      ],
      "metadata": {
        "colab": {
          "base_uri": "https://localhost:8080/"
        },
        "id": "SzpUMxLWkV9F",
        "outputId": "ce644c39-fe5f-4aa7-bdac-61662b4a1178"
      },
      "execution_count": null,
      "outputs": [
        {
          "output_type": "stream",
          "name": "stdout",
          "text": [
            "Available QBs: 35\n",
            "Available RBs: 70\n",
            "Available WRs: 102\n",
            "Available TEs: 53\n",
            "Available FLEX options: 225\n",
            "Available DSTs: 26\n"
          ]
        }
      ]
    },
    {
      "cell_type": "markdown",
      "source": [
        "Initializing the model"
      ],
      "metadata": {
        "id": "3hB7feQUs9BH"
      }
    },
    {
      "cell_type": "code",
      "source": [
        "# Create an optimization model\n",
        "model = pe.ConcreteModel()"
      ],
      "metadata": {
        "id": "5ozXwRZZtGRm"
      },
      "execution_count": null,
      "outputs": []
    },
    {
      "cell_type": "markdown",
      "source": [
        "Creating binary decision variables for each player. The model will end up using these decision variables to either select or not select each player it tests. Allowing it to eventually select the best players for the highest scoring team"
      ],
      "metadata": {
        "id": "qnlyg3jLtXgY"
      }
    },
    {
      "cell_type": "code",
      "source": [
        "# Define decision variables for each player\n",
        "model.qb_vars = pe.Var(qbs.index, within=pe.Binary)\n",
        "model.rb_vars = pe.Var(rbs.index, within=pe.Binary)\n",
        "model.wr_vars = pe.Var(wrs.index, within=pe.Binary)\n",
        "model.te_vars = pe.Var(tes.index, within=pe.Binary)\n",
        "model.flex_vars = pe.Var(flex_players.index, within=pe.Binary)\n",
        "model.dst_vars = pe.Var(dsts.index, within=pe.Binary)"
      ],
      "metadata": {
        "id": "KkBhNAf7tHxY"
      },
      "execution_count": null,
      "outputs": []
    },
    {
      "cell_type": "markdown",
      "source": [
        "###Objective function\n",
        "\n",
        "This piece of code tells the model what it should try to maximize which in this case is FantasyPoints for offense and Fantasy Score for defense.\n",
        "\n",
        "How does my objective function work:\n",
        "- In my Pyomo model, I defined the objective function using the Objective class and set the goal to pe.maximize, since we want to maximize total fantasy points.\"\n",
        "-\"Each term in this function corresponds to a different player position, ensuring that we sum up the fantasy points for all selected players.\"\n",
        "\n",
        "Breaking Down the Components\n",
        "\"Each line of the objective function represents a different position group:\"\n",
        "- Loops through all QBs (i in qbs.index).\n",
        "- model.qb_vars[i] is a binary decision variable (1 if the QB is selected, 0 if not).\n",
        "- qbs.loc[i, 'FantasyPoints'] retrieves the fantasy points for each QB.\n",
        "- If a QB is selected, their fantasy points contribute to the total.\n",
        "\n",
        "this same logic is used for all the players\n",
        "\n",
        "\n",
        "Since DST is team-based, it uses 'Fantasy Score' instead of 'FantasyPoints'.\n",
        "Ensures only one DST is selected, contributing to the total score.\n",
        "\n",
        "how does it optimize:\n",
        "- \"Since each model.qb_vars[i], model.rb_vars[i], etc., is a binary variable (0 or 1), the objective function only sums up the fantasy points for players that are actually selected in the final lineup. The optimizer finds the best combination of players that maximizes this sum while still satisfying constraints like salary cap and roster requirements.\"\n"
      ],
      "metadata": {
        "id": "x-qqfPgcuDrc"
      }
    },
    {
      "cell_type": "code",
      "source": [
        "# Define the objective function to maximize total fantasy points\n",
        "def objective_rule(model): #defining function which takes the model object which contains the cdecision variables as input\n",
        "    return sum(model.qb_vars[i] * qbs.loc[i, 'FantasyPoints'] for i in qbs.index) + \\ #multiplies whatever quarterback was chosen by their fantasy points so the model can mazimize total fantasy points for the team\n",
        "    #for i in qbs.index → Loop through every QB (each i is an index in qbs.index).\n",
        "    #qbs.index represents all quarterbacks' indices in the DataFrame.\n",
        "    #The loop iterates over each QB's index (i) and applies the expression inside sum()\n",
        "           sum(model.rb_vars[i] * rbs.loc[i, 'FantasyPoints'] for i in rbs.index) + \\\n",
        "           sum(model.wr_vars[i] * wrs.loc[i, 'FantasyPoints'] for i in wrs.index) + \\\n",
        "           sum(model.te_vars[i] * tes.loc[i, 'FantasyPoints'] for i in tes.index) + \\\n",
        "           sum(model.flex_vars[i] * flex_players.loc[i, 'FantasyPoints'] for i in flex_players.index) + \\\n",
        "           sum(model.dst_vars[i] * dsts.loc[i, 'Fantasy Score'] for i in dsts.index)\n",
        "\n",
        "model.objective = pe.Objective(rule=objective_rule, sense=pe.maximize)\n",
        "#model.objective:  It stores the objective function, which tells the solver what to optimize.\n",
        "#pe.Objectiv : creates the objective function in Pyomo\n",
        "#rule=objective_rule → Specifies what the objective function should be.\n",
        "#sense=pe.maximize → Specifies whether we want to maximize or minimize"
      ],
      "metadata": {
        "id": "F4_Bgf66tNY-"
      },
      "execution_count": null,
      "outputs": []
    },
    {
      "cell_type": "markdown",
      "source": [
        "###Constraints\n",
        "\n",
        "Based off what we were given:\n",
        "\n",
        "The fantasy team must have nine “players” (a team defense/special teams counts as one player).\n",
        "2. The salary of your eight players may not exceed $50,000.\n",
        "3. You need players from at least two different games.\n",
        "4. Your 9-player fantasy team roster should include the following number of players from each of\n",
        "these positions:\n",
        "a. 1 Quarterback (QB)\n",
        "b. 2 Running Backs (RB)\n",
        "c. 3 Wide Receivers (WR)\n",
        "d. 1 Tight End (TE)\n",
        "e. 1 FLEXible position (a RB, WR, or TE)\n",
        "f. 1 Team’s Defense/Special Teams (DST"
      ],
      "metadata": {
        "id": "mo00qf0OuuuJ"
      }
    },
    {
      "cell_type": "markdown",
      "source": [
        "Note: I originally had the constraints in different code chunks but it was difficult to run and rerun the constraints when they were seperated so thats why I ended up combining them."
      ],
      "metadata": {
        "id": "6zSht-G3cDOk"
      }
    },
    {
      "cell_type": "code",
      "source": [
        "# Constraint: Maximum of 9 players in the team\n",
        "#Defines a constraint function that takes the optimization model as input.\n",
        "#Pyomo calls this function when defining constraints.\n",
        "# then it loops through all quarterbacks and since the model.qb_vars is already\n",
        "#a binary variable it becomes 1 if selected 0 if not it sums the number of quartebacks chosen so it\n",
        "#can later follow the == 9 constraint\n",
        "def max_players_rule(model):\n",
        "    return sum(model.qb_vars[i] for i in qbs.index) + \\\n",
        "           sum(model.rb_vars[i] for i in rbs.index) + \\\n",
        "           sum(model.wr_vars[i] for i in wrs.index) + \\\n",
        "           sum(model.te_vars[i] for i in tes.index) + \\\n",
        "           sum(model.flex_vars[i] for i in flex_players.index) + \\\n",
        "           sum(model.dst_vars[i] for i in dsts.index) == 9\n",
        "\n",
        "model.max_players_constraint = pe.Constraint(rule=max_players_rule) #defines the constraint and calls the max_players_rule funtion\n",
        "\n",
        "\n",
        "# Constraint: Exactly one defense team\n",
        "def exactly_one_dst_rule(model):\n",
        "    return sum(model.dst_vars[i] for i in dsts.index) == 1\n",
        "\n",
        "model.exactly_one_dst_constraint = pe.Constraint(rule=exactly_one_dst_rule) #defines constraint and calls the exactly_one_dst_rule\n",
        "\n",
        "\n",
        "# Constraint: Salary cap\n",
        "#1️ Define the Function:\n",
        "#The function salary_cap_rule(model) is defined to enforce the salary cap constraint in the optimization model.\n",
        "#2️ Calculate Total Salary for QBs:\n",
        "#Loops through all quarterbacks (QBs) and multiplies each binary selection variable (0 or 1) by the corresponding salary from the dataset.\n",
        "#3️ Calculate Total Salary for RBs, WRs, and TEs:\n",
        "#Similar to QBs, it loops through running backs (RBs), wide receivers (WRs), and tight ends (TEs), summing up salaries for the selected players.\n",
        "#4️ Include FLEX Position Players:\n",
        "#Since the FLEX position can be an RB, WR, or TE, this term ensures that the salary of the selected FLEX player is counted.\n",
        "#5️ Include Defense/Special Teams (DST):\n",
        "#The salary for the selected defense team is also added to the total.\n",
        "#6️ Enforce the Salary Cap:\n",
        "\n",
        "The final sum of all selected players' salaries is constrained to be ≤ $50,000, ensuring that the optimizer does not exceed the fantasy league’s salary limit.\n",
        "def salary_cap_rule(model):\n",
        "    return sum(model.qb_vars[i] * qbs.loc[i, 'Salary'] for i in qbs.index) + \\\n",
        "           sum(model.rb_vars[i] * rbs.loc[i, 'Salary'] for i in rbs.index) + \\\n",
        "           sum(model.wr_vars[i] * wrs.loc[i, 'Salary'] for i in wrs.index) + \\\n",
        "           sum(model.te_vars[i] * tes.loc[i, 'Salary'] for i in tes.index) + \\\n",
        "           sum(model.flex_vars[i] * flex_players.loc[i, 'Salary'] for i in flex_players.index)+ \\\n",
        "           sum(model.dst_vars[i] * dsts.loc[i, 'Salary'] for i in dsts.index) <= 50000\n",
        "\n",
        "model.salary_cap_constraint = pe.Constraint(rule=salary_cap_rule) #defines the constraint and calls the salary_cap rule\n",
        "\n",
        "\n",
        "# Constraint: Exactly one QB\n",
        "def exactly_one_qb_rule(model):\n",
        "    return sum(model.qb_vars[i] for i in qbs.index) == 1 #looks through the available qbs stored int he qbs data frame and then uses the\n",
        "                                                          #binary decision variable to select or not select that player\n",
        "\n",
        "model.exactly_one_qb_constraint = pe.Constraint(rule=exactly_one_qb_rule)\n",
        "\n",
        "# Constraint: Exactly two RBs\n",
        "def exactly_two_rbs_rule(model):\n",
        "    return sum(model.rb_vars[i] for i in rbs.index) == 2\n",
        "\n",
        "model.exactly_two_rbs_constraint = pe.Constraint(rule=exactly_two_rbs_rule)\n",
        "\n",
        "# Constraint: Exactly three WRs\n",
        "def exactly_three_wrs_rule(model):\n",
        "    return sum(model.wr_vars[i] for i in wrs.index) == 3\n",
        "\n",
        "model.exactly_three_wrs_constraint = pe.Constraint(rule=exactly_three_wrs_rule)\n",
        "\n",
        "# Constraint: Exactly one TE\n",
        "def exactly_one_te_rule(model):\n",
        "    return sum(model.te_vars[i] for i in tes.index) == 1\n",
        "\n",
        "model.exactly_one_te_constraint = pe.Constraint(rule=exactly_one_te_rule)\n",
        "\n",
        "# Constraint: Exactly one FLEX (RB, WR, or TE)\n",
        "def exactly_one_flex_rule(model):\n",
        "    return sum(model.flex_vars[i] for i in flex_players.index) == 1\n",
        "\n",
        "model.exactly_one_flex_constraint = pe.Constraint(rule=exactly_one_flex_rule)\n",
        "\n",
        "\n",
        "# Constraint: Each player can only be selected once (modified for FLEX)\n",
        "def player_uniqueness_rule(model):\n",
        "    all_players = set(qbs['Player']).union(set(rbs['Player']), set(wrs['Player']), set(tes['Player'])) #This line creates a set of all unique player names across different position groups (QB, RB, WR, TE) to ensure player uniqueness in the lineup.\n",
        "    #This gathers all unique player names from QBs, RBs, WRs, and TEs into a set.\n",
        "    #The set() function removes duplicate names.                                                      # this was the best way I could figure out how to make sure a flex player is not chosen again\n",
        "\n",
        "    for player in all_players: #iterates over every unique player in the dataset with a goal of seeing if they have been selected more than once\n",
        "        # Count selections across all positions, including FLEX\n",
        "          #Each sum(...) loops through a specific position group (QB, RB, WR, TE, FLEX).\n",
        "          #It checks if the current player is selected (1 or 0) in that position.\n",
        "          #The total selected_count is the number of times a player has been selected.\n",
        "              #qbs.loc[i, 'Player'] gets the name of the player at index i in the QBs dataset.\n",
        "              #player is the current player name from all_players that we're checking in the loop.\n",
        "              #if qbs.loc[i, 'Player'] == player keeps only rows where the player name matches.\n",
        "        selected_count = sum(model.qb_vars[i] for i in qbs.index if qbs.loc[i, 'Player'] == player) + \\\n",
        "                         sum(model.rb_vars[i] for i in rbs.index if rbs.loc[i, 'Player'] == player) + \\\n",
        "                         sum(model.wr_vars[i] for i in wrs.index if wrs.loc[i, 'Player'] == player) + \\\n",
        "                         sum(model.te_vars[i] for i in tes.index if tes.loc[i, 'Player'] == player) + \\\n",
        "                         sum(model.flex_vars[i] for i in flex_players.index if flex_players.loc[i, 'Player'] == player)\n",
        "\n",
        "        # Constraint for each player to be selected at most once\n",
        "        model.add_component(f'player_uniqueness_constraint_{player}', pe.Constraint(expr=selected_count <= 1))\n",
        "\n",
        "    # Defense\n",
        "    for player in set(dsts['Player']):\n",
        "        model.add_component(f'player_uniqueness_constraint_dst_{player}', pe.Constraint(expr=sum(model.dst_vars[i] for i in dsts.index if dsts.loc[i, 'Player'] == player) <= 1))\n",
        "\n",
        "    return Constraint.Feasible\n",
        "\n",
        "model.player_uniqueness_constraint = pe.Constraint(rule=player_uniqueness_rule)\n",
        "\n",
        "\n",
        "# Constraint: Players from at least 2 different games\n",
        "def at_least_two_games_rule(model):\n",
        "    games = set(pd.concat([qbs['Game Info'], rbs['Game Info'], wrs['Game Info'], tes['Game Info'], flex_players['Game Info'], dsts['Game Info']]))\n",
        "    # Create binary variables for each game and add to the model *before* the loop\n",
        "    model.game_vars = pe.Var(games, within=pe.Binary)\n",
        "\n",
        "    # Link game variables to player selections\n",
        "    for game in games: #iterates over all unique games\n",
        "        # For each position group, check if a player is in the current game and add constraints\n",
        "            #🔹 Loops through all unique games in the dataset.\n",
        "            #🔹 Checks if any players from a given game are selected in each position group.\n",
        "            #🔹 Creates constraints that link player selection to game selection.\n",
        "        if game in qbs['Game Info'].values: #looks at the Game Info column for qbs and if game appears in this column it means at least one qb is playing in tis game this just prevents unnecessary constraint creation for games with no players in that position\n",
        "            model.add_component(f'game_constraint_qb_{game}', #adds constraint and links it to players games\n",
        "                                  pe.Constraint(expr=sum(model.qb_vars[i] for i in qbs.index if qbs.loc[i, 'Game Info'] == game) <= len(qbs) * model.game_vars[game]))\n",
        "\n",
        "        if game in rbs['Game Info'].values:\n",
        "            model.add_component(f'game_constraint_rb_{game}',\n",
        "                                  pe.Constraint(expr=sum(model.rb_vars[i] for i in rbs.index if rbs.loc[i, 'Game Info'] == game) <= len(rbs) * model.game_vars[game]))\n",
        "\n",
        "        if game in wrs['Game Info'].values:\n",
        "            model.add_component(f'game_constraint_wr_{game}',\n",
        "                                  pe.Constraint(expr=sum(model.wr_vars[i] for i in wrs.index if wrs.loc[i, 'Game Info'] == game) <= len(wrs) * model.game_vars[game]))\n",
        "\n",
        "        if game in tes['Game Info'].values:\n",
        "            model.add_component(f'game_constraint_te_{game}',\n",
        "                                  pe.Constraint(expr=sum(model.te_vars[i] for i in tes.index if tes.loc[i, 'Game Info'] == game) <= len(tes) * model.game_vars[game]))\n",
        "\n",
        "        if game in flex_players['Game Info'].values:\n",
        "            model.add_component(f'game_constraint_flex_{game}',\n",
        "                                  pe.Constraint(expr=sum(model.flex_vars[i] for i in flex_players.index if flex_players.loc[i, 'Game Info'] == game) <= len(flex_players) * model.game_vars[game]))\n",
        "\n",
        "        if game in dsts['Game Info'].values:\n",
        "            model.add_component(f'game_constraint_dst_{game}',\n",
        "                                  pe.Constraint(expr=sum(model.dst_vars[i] for i in dsts.index if dsts.loc[i, 'Game Info'] == game) <= len(dsts) * model.game_vars[game]))\n",
        "\n",
        "    # Constraint: Ensure at least 2 different games are selected\n",
        "    return sum(model.game_vars[game] for game in games) >= 2  #These ensure that if a player from a game is selected, the corresponding model.game_vars[game] binary variable is set to 1.\n",
        "\n",
        "model.at_least_two_games_constraint = pe.Constraint(rule=at_least_two_games_rule)\n"
      ],
      "metadata": {
        "id": "3b8j7_tUkc6x"
      },
      "execution_count": null,
      "outputs": []
    },
    {
      "cell_type": "code",
      "source": [
        "# Solve the model\n",
        "solver = pe.SolverFactory(\"appsi_highs\")\n",
        "results = solver.solve(model, tee=True)  # Store the results object"
      ],
      "metadata": {
        "colab": {
          "base_uri": "https://localhost:8080/"
        },
        "id": "CIUFalo1kykV",
        "outputId": "0e934aec-4882-4b17-e860-20f1d6c61f81"
      },
      "execution_count": null,
      "outputs": [
        {
          "output_type": "stream",
          "name": "stdout",
          "text": [
            "Running HiGHS 1.9.0 (git hash: fa40bdf): Copyright (c) 2024 HiGHS under MIT licence terms\n",
            "Coefficient ranges:\n",
            "  Matrix [1e+00, 9e+03]\n",
            "  Cost   [8e-02, 4e+01]\n",
            "  Bound  [1e+00, 1e+00]\n",
            "  RHS    [1e+00, 5e+04]\n",
            "Presolving model\n",
            "315 rows, 511 cols, 2493 nonzeros  0s\n",
            "232 rows, 460 cols, 1283 nonzeros  0s\n",
            "Objective function is integral with scale 50\n",
            "\n",
            "Solving MIP model with:\n",
            "   232 rows\n",
            "   460 cols (460 binary, 0 integer, 0 implied int., 0 continuous)\n",
            "   1283 nonzeros\n",
            "\n",
            "Src: B => Branching; C => Central rounding; F => Feasibility pump; H => Heuristic; L => Sub-MIP;\n",
            "     P => Empty MIP; R => Randomized rounding; S => Solve LP; T => Evaluate node; U => Unbounded;\n",
            "     z => Trivial zero; l => Trivial lower; u => Trivial upper; p => Trivial point\n",
            "\n",
            "        Nodes      |    B&B Tree     |            Objective Bounds              |  Dynamic Constraints |       Work      \n",
            "Src  Proc. InQueue |  Leaves   Expl. | BestBound       BestSol              Gap |   Cuts   InLp Confl. | LpIters     Time\n",
            "\n",
            "         0       0         0   0.00%   1674.88         -inf                 inf        0      0      0         0     0.0s\n",
            " R       0       0         0   0.00%   289.4975        283.76             2.02%        0      0      0        22     0.0s\n",
            "\n",
            "91.5% inactive integer columns, restarting\n",
            "Model after restart has 21 rows, 39 cols (39 bin., 0 int., 0 impl., 0 cont.), and 98 nonzeros\n",
            "\n",
            "         0       0         0   0.00%   289.4975        283.76             2.02%        0      0      0        22     0.0s\n",
            " R       0       0         0   0.00%   289.4975        287.26             0.78%        0      0      0        22     0.0s\n",
            "\n",
            "41.0% inactive integer columns, restarting\n",
            "Model after restart has 13 rows, 21 cols (21 bin., 0 int., 0 impl., 0 cont.), and 53 nonzeros\n",
            "\n",
            "         0       0         0   0.00%   289.4975        287.26             0.78%        0      0      0        22     0.0s\n",
            "         0       0         0   0.00%   289.4975        287.26             0.78%        0      0      3        22     0.0s\n",
            " T       0       0         0 100.00%   289.0814876     289.06             0.01%       39      4      3        31     0.0s\n",
            "         1       0         1 100.00%   289.06          289.06             0.00%       39      4      3        31     0.0s\n",
            "\n",
            "Solving report\n",
            "  Status            Optimal\n",
            "  Primal bound      289.06\n",
            "  Dual bound        289.06\n",
            "  Gap               0% (tolerance: 0.01%)\n",
            "  P-D integral      0.00014019396682\n",
            "  Solution status   feasible\n",
            "                    289.06 (objective)\n",
            "                    0 (bound viol.)\n",
            "                    0 (int. viol.)\n",
            "                    0 (row viol.)\n",
            "  Timing            0.03 (total)\n",
            "                    0.00 (presolve)\n",
            "                    0.00 (solve)\n",
            "                    0.00 (postsolve)\n",
            "  Max sub-MIP depth 0\n",
            "  Nodes             1\n",
            "  Repair LPs        0 (0 feasible; 0 iterations)\n",
            "  LP iterations     31 (total)\n",
            "                    0 (strong br.)\n",
            "                    9 (separation)\n",
            "                    0 (heuristics)\n"
          ]
        }
      ]
    },
    {
      "cell_type": "markdown",
      "source": [
        "###Extracting and Displaying the Selected Optimal Lineup\n",
        "\n",
        "What This Code Does:\n",
        "This code extracts the selected players from the optimization model, calculates the total salary and fantasy points of the chosen lineup, and prints the final selection.\n",
        "\n"
      ],
      "metadata": {
        "id": "rjvf8qrBcbIv"
      }
    },
    {
      "cell_type": "code",
      "source": [
        "selected_players = [] #→ Stores the selected lineup as a list of tuples (Player Name, Position, Salary, Fantasy Points)\n",
        "total_salary = 0 #starting at 0 so we can add to it\n",
        "max_fantasy_points = 0 #starting at 0 so we can add to it\n",
        "\n",
        "# Iterate through the decision variables and extract selected players\n",
        "#Each loop iterates through a specific position group (QB, RB, WR, TE, FLEX, DST) and checks which players were selected (value == 1)\n",
        "for i in qbs.index:\n",
        "    if model.qb_vars[i].value == 1: #loops through all the quarterbacks in qbs.index and checks if the optimizer selected the player\n",
        "        selected_players.append((qbs.loc[i, 'Name'], 'QB', qbs.loc[i, 'Salary'], qbs.loc[i, 'FantasyPoints'])) #adds whatever players where selected to the tuple selected_players\n",
        "        total_salary += qbs.loc[i, 'Salary']  #adds the corresponding salaries of the players selected to the total salary\n",
        "        max_fantasy_points += qbs.loc[i, 'FantasyPoints'] #adds the corresponding fantasy points of the players selected to the total points\n",
        "for i in rbs.index:\n",
        "    if model.rb_vars[i].value == 1:\n",
        "        selected_players.append((rbs.loc[i, 'Name'], 'RB', rbs.loc[i, 'Salary'], rbs.loc[i, 'FantasyPoints']))\n",
        "        total_salary += rbs.loc[i, 'Salary']\n",
        "        max_fantasy_points += rbs.loc[i, 'FantasyPoints']\n",
        "for i in wrs.index:\n",
        "    if model.wr_vars[i].value == 1:\n",
        "        selected_players.append((wrs.loc[i, 'Name'], 'WR', wrs.loc[i, 'Salary'], wrs.loc[i, 'FantasyPoints']))\n",
        "        total_salary += wrs.loc[i, 'Salary']\n",
        "        max_fantasy_points += wrs.loc[i, 'FantasyPoints']\n",
        "for i in tes.index:\n",
        "    if model.te_vars[i].value == 1:\n",
        "        selected_players.append((tes.loc[i, 'Name'], 'TE', tes.loc[i, 'Salary'], tes.loc[i, 'FantasyPoints']))\n",
        "        total_salary += tes.loc[i, 'Salary']\n",
        "        max_fantasy_points += tes.loc[i, 'FantasyPoints']\n",
        "for i in flex_players.index:\n",
        "    if model.flex_vars[i].value == 1:\n",
        "        selected_players.append((flex_players.loc[i, 'Name'], flex_players.loc[i, 'Position'], flex_players.loc[i, 'Salary'], flex_players.loc[i, 'FantasyPoints']))\n",
        "        total_salary += flex_players.loc[i, 'Salary']\n",
        "        max_fantasy_points += flex_players.loc[i, 'FantasyPoints']\n",
        "\n",
        "for i in dsts.index:\n",
        "    if model.dst_vars[i].value == 1:\n",
        "        selected_players.append((dsts.loc[i, 'Name'], 'DST', dsts.loc[i, 'Salary'], dsts.loc[i, 'Fantasy Score']))\n",
        "        total_salary += dsts.loc[i, 'Salary']\n",
        "        max_fantasy_points += dsts.loc[i, 'Fantasy Score']\n",
        "\n",
        "\n",
        "# Output the results\n",
        "print(\"Selected Players:\")\n",
        "for player, position, salary, fantasy_points in selected_players:\n",
        "    print(f\"{player} ({position}): Salary - ${salary}, Fantasy Points - {fantasy_points}\")\n",
        "\n",
        "print(f\"\\nMax Fantasy Points: {max_fantasy_points}\")\n",
        "print(f\"Total Salary: ${total_salary}\")\n"
      ],
      "metadata": {
        "colab": {
          "base_uri": "https://localhost:8080/"
        },
        "id": "qKS-157BlZyB",
        "outputId": "f7352ba3-30b4-490c-b648-b9654839b0d6"
      },
      "execution_count": null,
      "outputs": [
        {
          "output_type": "stream",
          "name": "stdout",
          "text": [
            "Selected Players:\n",
            "drewlock (QB): Salary - $4900, Fantasy Points - 37.36\n",
            "jonathantaylor (RB): Salary - $7900, Fantasy Points - 30.6\n",
            "buckyirving (RB): Salary - $6700, Fantasy Points - 26.0\n",
            "teehiggins (WR): Salary - $6900, Fantasy Points - 44.1\n",
            "devontasmith (WR): Salary - $5800, Fantasy Points - 33.0\n",
            "rickypearsall (WR): Salary - $4200, Fantasy Points - 31.700000000000003\n",
            "zachertz (TE): Salary - $3800, Fantasy Points - 25.2\n",
            "maliknabers (WR): Salary - $6600, Fantasy Points - 39.1\n",
            "eagles (DST): Salary - $3100, Fantasy Points - 22\n",
            "\n",
            "Max Fantasy Points: 289.06\n",
            "Total Salary: $49900\n"
          ]
        }
      ]
    },
    {
      "cell_type": "markdown",
      "source": [
        "#Yay! Time for Question 2\n",
        "\n",
        "The second problem will involve selecting a lineup based on historical information.\n",
        "Assuming you didn’t have the “cheat code”, what would be your strategy in choosing\n",
        "players, and how it would outperform the naïve strategy of just selecting the players based\n",
        "upon their average daily points? For example, perhaps you think older players will play\n",
        "worse than their averages because this is at the end of the season and they are likely to\n",
        "fatigue more easily. Or perhaps you think you should select players playing at home,\n",
        "because you think they will better than their averages at home than they would on the road\n",
        "(especially at Christmas!) Maybe you think players will do better if they are playing against a\n",
        "bad team, or worse if they are playing against a good team? Maybe you want to pick people\n",
        "who are on the same team, because if one player is throwing a touchdown pass, his\n",
        "teammate might be receiving the pass? If you don’t know anything about American\n",
        "football, use Google (or your favorite AI)!"
      ],
      "metadata": {
        "id": "RCdeeX0OoQbw"
      }
    },
    {
      "cell_type": "markdown",
      "source": [
        "### Data Set up\n",
        "\n",
        "Lets start by getting our defense_season data and our offense_season data and merging them with salary data. Very similar to what we did with the week 17 data"
      ],
      "metadata": {
        "id": "ty2woB8FsQor"
      }
    },
    {
      "cell_type": "code",
      "source": [
        "# Merge all offensive stats\n",
        "offense_season = pd.concat([pass_stats, rush_stats, rcv_stats], axis=0, ignore_index=True)"
      ],
      "metadata": {
        "id": "L_HzG2Ono0d7"
      },
      "execution_count": null,
      "outputs": []
    },
    {
      "cell_type": "code",
      "source": [
        "# Merge offense_season and salaries_offense on 'Player' and 'Name' respectively\n",
        "offense_season = pd.merge(offense_season, salaries_offense, left_on='Player', right_on='Name', how='inner')"
      ],
      "metadata": {
        "id": "GO-yx7vrslkL"
      },
      "execution_count": null,
      "outputs": []
    },
    {
      "cell_type": "code",
      "source": [
        "offense_season"
      ],
      "metadata": {
        "colab": {
          "base_uri": "https://localhost:8080/",
          "height": 614
        },
        "id": "ocL7r-Ua-Azs",
        "outputId": "9ffe5e2e-890e-4ad5-ffdf-465fdd478acd"
      },
      "execution_count": null,
      "outputs": [
        {
          "output_type": "execute_result",
          "data": {
            "text/plain": [
              "             Player  Age Team Pos   G  GS    Cmp    Att  Cmp%   Yds  ...  \\\n",
              "0         joeburrow   28  CIN  QB  17  17  460.0  652.0  70.6  4918  ...   \n",
              "1         jaredgoff   30  DET  QB  17  17  390.0  539.0  72.4  4629  ...   \n",
              "2     bakermayfield   29  TAM  QB  17  17  407.0  570.0  71.4  4500  ...   \n",
              "3         genosmith   34  SEA  QB  17  17  407.0  578.0  70.4  4320  ...   \n",
              "4        samdarnold   27  MIN  QB  17  17  361.0  545.0  66.2  4319  ...   \n",
              "...             ...  ...  ...  ..  ..  ..    ...    ...   ...   ...  ...   \n",
              "1037    malikwillis   25  GNB  QB   7   2    NaN    NaN   NaN     0  ...   \n",
              "1038  jameiswinston   30  CLE  QB  12   7    NaN    NaN   NaN     0  ...   \n",
              "1039     bryceyoung   23  CAR  QB  14  12    NaN    NaN   NaN     0  ...   \n",
              "1040    darekeyoung   25  SEA  WR  14   0    NaN    NaN   NaN     0  ...   \n",
              "1041    baileyzappe   25  CLE  QB   1   1    NaN    NaN   NaN     0  ...   \n",
              "\n",
              "      Y/Tgt  Position                  Name + ID           Name        ID  \\\n",
              "0       NaN        QB      Joe Burrow (37128257)      joeburrow  37128257   \n",
              "1       NaN        QB      Jared Goff (37128259)      jaredgoff  37128259   \n",
              "2       NaN        QB  Baker Mayfield (37128258)  bakermayfield  37128258   \n",
              "3       NaN        QB      Geno Smith (37128274)      genosmith  37128274   \n",
              "4       NaN        QB     Sam Darnold (37128260)     samdarnold  37128260   \n",
              "...     ...       ...                        ...            ...       ...   \n",
              "1037    NaN        QB    Malik Willis (37128338)    malikwillis  37128338   \n",
              "1038    NaN        QB  Jameis Winston (37128286)  jameiswinston  37128286   \n",
              "1039    NaN        QB     Bryce Young (37128272)     bryceyoung  37128272   \n",
              "1040    0.0        WR    Dareke Young (37129188)    darekeyoung  37129188   \n",
              "1041    NaN        QB    Bailey Zappe (37128301)    baileyzappe  37128301   \n",
              "\n",
              "      Roster Position  Salary                      Game Info  TeamAbbrev  \\\n",
              "0                  QB    7200  DEN@CIN 12/28/2024 04:30PM ET         CIN   \n",
              "1                  QB    6800   DET@SF 12/30/2024 08:15PM ET         DET   \n",
              "2                  QB    6900   CAR@TB 12/29/2024 01:00PM ET          TB   \n",
              "3                  QB    5500  SEA@CHI 12/26/2024 08:15PM ET         SEA   \n",
              "4                  QB    6400   GB@MIN 12/29/2024 04:25PM ET         MIN   \n",
              "...               ...     ...                            ...         ...   \n",
              "1037               QB    4000   GB@MIN 12/29/2024 04:25PM ET          GB   \n",
              "1038               QB    4800  MIA@CLE 12/29/2024 04:05PM ET         CLE   \n",
              "1039               QB    5600   CAR@TB 12/29/2024 01:00PM ET         CAR   \n",
              "1040          WR/FLEX    3000  SEA@CHI 12/26/2024 08:15PM ET         SEA   \n",
              "1041               QB    4300  MIA@CLE 12/29/2024 04:05PM ET         CLE   \n",
              "\n",
              "      AvgPointsPerGame  \n",
              "0                23.59  \n",
              "1                20.96  \n",
              "2                22.77  \n",
              "3                17.42  \n",
              "4                19.77  \n",
              "...                ...  \n",
              "1037              8.01  \n",
              "1038             12.84  \n",
              "1039             12.72  \n",
              "1040              0.00  \n",
              "1041              0.00  \n",
              "\n",
              "[1042 rows x 46 columns]"
            ],
            "text/html": [
              "\n",
              "  <div id=\"df-622f512b-ebb2-4be1-955b-3634b97735fd\" class=\"colab-df-container\">\n",
              "    <div>\n",
              "<style scoped>\n",
              "    .dataframe tbody tr th:only-of-type {\n",
              "        vertical-align: middle;\n",
              "    }\n",
              "\n",
              "    .dataframe tbody tr th {\n",
              "        vertical-align: top;\n",
              "    }\n",
              "\n",
              "    .dataframe thead th {\n",
              "        text-align: right;\n",
              "    }\n",
              "</style>\n",
              "<table border=\"1\" class=\"dataframe\">\n",
              "  <thead>\n",
              "    <tr style=\"text-align: right;\">\n",
              "      <th></th>\n",
              "      <th>Player</th>\n",
              "      <th>Age</th>\n",
              "      <th>Team</th>\n",
              "      <th>Pos</th>\n",
              "      <th>G</th>\n",
              "      <th>GS</th>\n",
              "      <th>Cmp</th>\n",
              "      <th>Att</th>\n",
              "      <th>Cmp%</th>\n",
              "      <th>Yds</th>\n",
              "      <th>...</th>\n",
              "      <th>Y/Tgt</th>\n",
              "      <th>Position</th>\n",
              "      <th>Name + ID</th>\n",
              "      <th>Name</th>\n",
              "      <th>ID</th>\n",
              "      <th>Roster Position</th>\n",
              "      <th>Salary</th>\n",
              "      <th>Game Info</th>\n",
              "      <th>TeamAbbrev</th>\n",
              "      <th>AvgPointsPerGame</th>\n",
              "    </tr>\n",
              "  </thead>\n",
              "  <tbody>\n",
              "    <tr>\n",
              "      <th>0</th>\n",
              "      <td>joeburrow</td>\n",
              "      <td>28</td>\n",
              "      <td>CIN</td>\n",
              "      <td>QB</td>\n",
              "      <td>17</td>\n",
              "      <td>17</td>\n",
              "      <td>460.0</td>\n",
              "      <td>652.0</td>\n",
              "      <td>70.6</td>\n",
              "      <td>4918</td>\n",
              "      <td>...</td>\n",
              "      <td>NaN</td>\n",
              "      <td>QB</td>\n",
              "      <td>Joe Burrow (37128257)</td>\n",
              "      <td>joeburrow</td>\n",
              "      <td>37128257</td>\n",
              "      <td>QB</td>\n",
              "      <td>7200</td>\n",
              "      <td>DEN@CIN 12/28/2024 04:30PM ET</td>\n",
              "      <td>CIN</td>\n",
              "      <td>23.59</td>\n",
              "    </tr>\n",
              "    <tr>\n",
              "      <th>1</th>\n",
              "      <td>jaredgoff</td>\n",
              "      <td>30</td>\n",
              "      <td>DET</td>\n",
              "      <td>QB</td>\n",
              "      <td>17</td>\n",
              "      <td>17</td>\n",
              "      <td>390.0</td>\n",
              "      <td>539.0</td>\n",
              "      <td>72.4</td>\n",
              "      <td>4629</td>\n",
              "      <td>...</td>\n",
              "      <td>NaN</td>\n",
              "      <td>QB</td>\n",
              "      <td>Jared Goff (37128259)</td>\n",
              "      <td>jaredgoff</td>\n",
              "      <td>37128259</td>\n",
              "      <td>QB</td>\n",
              "      <td>6800</td>\n",
              "      <td>DET@SF 12/30/2024 08:15PM ET</td>\n",
              "      <td>DET</td>\n",
              "      <td>20.96</td>\n",
              "    </tr>\n",
              "    <tr>\n",
              "      <th>2</th>\n",
              "      <td>bakermayfield</td>\n",
              "      <td>29</td>\n",
              "      <td>TAM</td>\n",
              "      <td>QB</td>\n",
              "      <td>17</td>\n",
              "      <td>17</td>\n",
              "      <td>407.0</td>\n",
              "      <td>570.0</td>\n",
              "      <td>71.4</td>\n",
              "      <td>4500</td>\n",
              "      <td>...</td>\n",
              "      <td>NaN</td>\n",
              "      <td>QB</td>\n",
              "      <td>Baker Mayfield (37128258)</td>\n",
              "      <td>bakermayfield</td>\n",
              "      <td>37128258</td>\n",
              "      <td>QB</td>\n",
              "      <td>6900</td>\n",
              "      <td>CAR@TB 12/29/2024 01:00PM ET</td>\n",
              "      <td>TB</td>\n",
              "      <td>22.77</td>\n",
              "    </tr>\n",
              "    <tr>\n",
              "      <th>3</th>\n",
              "      <td>genosmith</td>\n",
              "      <td>34</td>\n",
              "      <td>SEA</td>\n",
              "      <td>QB</td>\n",
              "      <td>17</td>\n",
              "      <td>17</td>\n",
              "      <td>407.0</td>\n",
              "      <td>578.0</td>\n",
              "      <td>70.4</td>\n",
              "      <td>4320</td>\n",
              "      <td>...</td>\n",
              "      <td>NaN</td>\n",
              "      <td>QB</td>\n",
              "      <td>Geno Smith (37128274)</td>\n",
              "      <td>genosmith</td>\n",
              "      <td>37128274</td>\n",
              "      <td>QB</td>\n",
              "      <td>5500</td>\n",
              "      <td>SEA@CHI 12/26/2024 08:15PM ET</td>\n",
              "      <td>SEA</td>\n",
              "      <td>17.42</td>\n",
              "    </tr>\n",
              "    <tr>\n",
              "      <th>4</th>\n",
              "      <td>samdarnold</td>\n",
              "      <td>27</td>\n",
              "      <td>MIN</td>\n",
              "      <td>QB</td>\n",
              "      <td>17</td>\n",
              "      <td>17</td>\n",
              "      <td>361.0</td>\n",
              "      <td>545.0</td>\n",
              "      <td>66.2</td>\n",
              "      <td>4319</td>\n",
              "      <td>...</td>\n",
              "      <td>NaN</td>\n",
              "      <td>QB</td>\n",
              "      <td>Sam Darnold (37128260)</td>\n",
              "      <td>samdarnold</td>\n",
              "      <td>37128260</td>\n",
              "      <td>QB</td>\n",
              "      <td>6400</td>\n",
              "      <td>GB@MIN 12/29/2024 04:25PM ET</td>\n",
              "      <td>MIN</td>\n",
              "      <td>19.77</td>\n",
              "    </tr>\n",
              "    <tr>\n",
              "      <th>...</th>\n",
              "      <td>...</td>\n",
              "      <td>...</td>\n",
              "      <td>...</td>\n",
              "      <td>...</td>\n",
              "      <td>...</td>\n",
              "      <td>...</td>\n",
              "      <td>...</td>\n",
              "      <td>...</td>\n",
              "      <td>...</td>\n",
              "      <td>...</td>\n",
              "      <td>...</td>\n",
              "      <td>...</td>\n",
              "      <td>...</td>\n",
              "      <td>...</td>\n",
              "      <td>...</td>\n",
              "      <td>...</td>\n",
              "      <td>...</td>\n",
              "      <td>...</td>\n",
              "      <td>...</td>\n",
              "      <td>...</td>\n",
              "      <td>...</td>\n",
              "    </tr>\n",
              "    <tr>\n",
              "      <th>1037</th>\n",
              "      <td>malikwillis</td>\n",
              "      <td>25</td>\n",
              "      <td>GNB</td>\n",
              "      <td>QB</td>\n",
              "      <td>7</td>\n",
              "      <td>2</td>\n",
              "      <td>NaN</td>\n",
              "      <td>NaN</td>\n",
              "      <td>NaN</td>\n",
              "      <td>0</td>\n",
              "      <td>...</td>\n",
              "      <td>NaN</td>\n",
              "      <td>QB</td>\n",
              "      <td>Malik Willis (37128338)</td>\n",
              "      <td>malikwillis</td>\n",
              "      <td>37128338</td>\n",
              "      <td>QB</td>\n",
              "      <td>4000</td>\n",
              "      <td>GB@MIN 12/29/2024 04:25PM ET</td>\n",
              "      <td>GB</td>\n",
              "      <td>8.01</td>\n",
              "    </tr>\n",
              "    <tr>\n",
              "      <th>1038</th>\n",
              "      <td>jameiswinston</td>\n",
              "      <td>30</td>\n",
              "      <td>CLE</td>\n",
              "      <td>QB</td>\n",
              "      <td>12</td>\n",
              "      <td>7</td>\n",
              "      <td>NaN</td>\n",
              "      <td>NaN</td>\n",
              "      <td>NaN</td>\n",
              "      <td>0</td>\n",
              "      <td>...</td>\n",
              "      <td>NaN</td>\n",
              "      <td>QB</td>\n",
              "      <td>Jameis Winston (37128286)</td>\n",
              "      <td>jameiswinston</td>\n",
              "      <td>37128286</td>\n",
              "      <td>QB</td>\n",
              "      <td>4800</td>\n",
              "      <td>MIA@CLE 12/29/2024 04:05PM ET</td>\n",
              "      <td>CLE</td>\n",
              "      <td>12.84</td>\n",
              "    </tr>\n",
              "    <tr>\n",
              "      <th>1039</th>\n",
              "      <td>bryceyoung</td>\n",
              "      <td>23</td>\n",
              "      <td>CAR</td>\n",
              "      <td>QB</td>\n",
              "      <td>14</td>\n",
              "      <td>12</td>\n",
              "      <td>NaN</td>\n",
              "      <td>NaN</td>\n",
              "      <td>NaN</td>\n",
              "      <td>0</td>\n",
              "      <td>...</td>\n",
              "      <td>NaN</td>\n",
              "      <td>QB</td>\n",
              "      <td>Bryce Young (37128272)</td>\n",
              "      <td>bryceyoung</td>\n",
              "      <td>37128272</td>\n",
              "      <td>QB</td>\n",
              "      <td>5600</td>\n",
              "      <td>CAR@TB 12/29/2024 01:00PM ET</td>\n",
              "      <td>CAR</td>\n",
              "      <td>12.72</td>\n",
              "    </tr>\n",
              "    <tr>\n",
              "      <th>1040</th>\n",
              "      <td>darekeyoung</td>\n",
              "      <td>25</td>\n",
              "      <td>SEA</td>\n",
              "      <td>WR</td>\n",
              "      <td>14</td>\n",
              "      <td>0</td>\n",
              "      <td>NaN</td>\n",
              "      <td>NaN</td>\n",
              "      <td>NaN</td>\n",
              "      <td>0</td>\n",
              "      <td>...</td>\n",
              "      <td>0.0</td>\n",
              "      <td>WR</td>\n",
              "      <td>Dareke Young (37129188)</td>\n",
              "      <td>darekeyoung</td>\n",
              "      <td>37129188</td>\n",
              "      <td>WR/FLEX</td>\n",
              "      <td>3000</td>\n",
              "      <td>SEA@CHI 12/26/2024 08:15PM ET</td>\n",
              "      <td>SEA</td>\n",
              "      <td>0.00</td>\n",
              "    </tr>\n",
              "    <tr>\n",
              "      <th>1041</th>\n",
              "      <td>baileyzappe</td>\n",
              "      <td>25</td>\n",
              "      <td>CLE</td>\n",
              "      <td>QB</td>\n",
              "      <td>1</td>\n",
              "      <td>1</td>\n",
              "      <td>NaN</td>\n",
              "      <td>NaN</td>\n",
              "      <td>NaN</td>\n",
              "      <td>0</td>\n",
              "      <td>...</td>\n",
              "      <td>NaN</td>\n",
              "      <td>QB</td>\n",
              "      <td>Bailey Zappe (37128301)</td>\n",
              "      <td>baileyzappe</td>\n",
              "      <td>37128301</td>\n",
              "      <td>QB</td>\n",
              "      <td>4300</td>\n",
              "      <td>MIA@CLE 12/29/2024 04:05PM ET</td>\n",
              "      <td>CLE</td>\n",
              "      <td>0.00</td>\n",
              "    </tr>\n",
              "  </tbody>\n",
              "</table>\n",
              "<p>1042 rows × 46 columns</p>\n",
              "</div>\n",
              "    <div class=\"colab-df-buttons\">\n",
              "\n",
              "  <div class=\"colab-df-container\">\n",
              "    <button class=\"colab-df-convert\" onclick=\"convertToInteractive('df-622f512b-ebb2-4be1-955b-3634b97735fd')\"\n",
              "            title=\"Convert this dataframe to an interactive table.\"\n",
              "            style=\"display:none;\">\n",
              "\n",
              "  <svg xmlns=\"http://www.w3.org/2000/svg\" height=\"24px\" viewBox=\"0 -960 960 960\">\n",
              "    <path d=\"M120-120v-720h720v720H120Zm60-500h600v-160H180v160Zm220 220h160v-160H400v160Zm0 220h160v-160H400v160ZM180-400h160v-160H180v160Zm440 0h160v-160H620v160ZM180-180h160v-160H180v160Zm440 0h160v-160H620v160Z\"/>\n",
              "  </svg>\n",
              "    </button>\n",
              "\n",
              "  <style>\n",
              "    .colab-df-container {\n",
              "      display:flex;\n",
              "      gap: 12px;\n",
              "    }\n",
              "\n",
              "    .colab-df-convert {\n",
              "      background-color: #E8F0FE;\n",
              "      border: none;\n",
              "      border-radius: 50%;\n",
              "      cursor: pointer;\n",
              "      display: none;\n",
              "      fill: #1967D2;\n",
              "      height: 32px;\n",
              "      padding: 0 0 0 0;\n",
              "      width: 32px;\n",
              "    }\n",
              "\n",
              "    .colab-df-convert:hover {\n",
              "      background-color: #E2EBFA;\n",
              "      box-shadow: 0px 1px 2px rgba(60, 64, 67, 0.3), 0px 1px 3px 1px rgba(60, 64, 67, 0.15);\n",
              "      fill: #174EA6;\n",
              "    }\n",
              "\n",
              "    .colab-df-buttons div {\n",
              "      margin-bottom: 4px;\n",
              "    }\n",
              "\n",
              "    [theme=dark] .colab-df-convert {\n",
              "      background-color: #3B4455;\n",
              "      fill: #D2E3FC;\n",
              "    }\n",
              "\n",
              "    [theme=dark] .colab-df-convert:hover {\n",
              "      background-color: #434B5C;\n",
              "      box-shadow: 0px 1px 3px 1px rgba(0, 0, 0, 0.15);\n",
              "      filter: drop-shadow(0px 1px 2px rgba(0, 0, 0, 0.3));\n",
              "      fill: #FFFFFF;\n",
              "    }\n",
              "  </style>\n",
              "\n",
              "    <script>\n",
              "      const buttonEl =\n",
              "        document.querySelector('#df-622f512b-ebb2-4be1-955b-3634b97735fd button.colab-df-convert');\n",
              "      buttonEl.style.display =\n",
              "        google.colab.kernel.accessAllowed ? 'block' : 'none';\n",
              "\n",
              "      async function convertToInteractive(key) {\n",
              "        const element = document.querySelector('#df-622f512b-ebb2-4be1-955b-3634b97735fd');\n",
              "        const dataTable =\n",
              "          await google.colab.kernel.invokeFunction('convertToInteractive',\n",
              "                                                    [key], {});\n",
              "        if (!dataTable) return;\n",
              "\n",
              "        const docLinkHtml = 'Like what you see? Visit the ' +\n",
              "          '<a target=\"_blank\" href=https://colab.research.google.com/notebooks/data_table.ipynb>data table notebook</a>'\n",
              "          + ' to learn more about interactive tables.';\n",
              "        element.innerHTML = '';\n",
              "        dataTable['output_type'] = 'display_data';\n",
              "        await google.colab.output.renderOutput(dataTable, element);\n",
              "        const docLink = document.createElement('div');\n",
              "        docLink.innerHTML = docLinkHtml;\n",
              "        element.appendChild(docLink);\n",
              "      }\n",
              "    </script>\n",
              "  </div>\n",
              "\n",
              "\n",
              "<div id=\"df-ac870c00-3071-48f2-a59b-7029601d2a4a\">\n",
              "  <button class=\"colab-df-quickchart\" onclick=\"quickchart('df-ac870c00-3071-48f2-a59b-7029601d2a4a')\"\n",
              "            title=\"Suggest charts\"\n",
              "            style=\"display:none;\">\n",
              "\n",
              "<svg xmlns=\"http://www.w3.org/2000/svg\" height=\"24px\"viewBox=\"0 0 24 24\"\n",
              "     width=\"24px\">\n",
              "    <g>\n",
              "        <path d=\"M19 3H5c-1.1 0-2 .9-2 2v14c0 1.1.9 2 2 2h14c1.1 0 2-.9 2-2V5c0-1.1-.9-2-2-2zM9 17H7v-7h2v7zm4 0h-2V7h2v10zm4 0h-2v-4h2v4z\"/>\n",
              "    </g>\n",
              "</svg>\n",
              "  </button>\n",
              "\n",
              "<style>\n",
              "  .colab-df-quickchart {\n",
              "      --bg-color: #E8F0FE;\n",
              "      --fill-color: #1967D2;\n",
              "      --hover-bg-color: #E2EBFA;\n",
              "      --hover-fill-color: #174EA6;\n",
              "      --disabled-fill-color: #AAA;\n",
              "      --disabled-bg-color: #DDD;\n",
              "  }\n",
              "\n",
              "  [theme=dark] .colab-df-quickchart {\n",
              "      --bg-color: #3B4455;\n",
              "      --fill-color: #D2E3FC;\n",
              "      --hover-bg-color: #434B5C;\n",
              "      --hover-fill-color: #FFFFFF;\n",
              "      --disabled-bg-color: #3B4455;\n",
              "      --disabled-fill-color: #666;\n",
              "  }\n",
              "\n",
              "  .colab-df-quickchart {\n",
              "    background-color: var(--bg-color);\n",
              "    border: none;\n",
              "    border-radius: 50%;\n",
              "    cursor: pointer;\n",
              "    display: none;\n",
              "    fill: var(--fill-color);\n",
              "    height: 32px;\n",
              "    padding: 0;\n",
              "    width: 32px;\n",
              "  }\n",
              "\n",
              "  .colab-df-quickchart:hover {\n",
              "    background-color: var(--hover-bg-color);\n",
              "    box-shadow: 0 1px 2px rgba(60, 64, 67, 0.3), 0 1px 3px 1px rgba(60, 64, 67, 0.15);\n",
              "    fill: var(--button-hover-fill-color);\n",
              "  }\n",
              "\n",
              "  .colab-df-quickchart-complete:disabled,\n",
              "  .colab-df-quickchart-complete:disabled:hover {\n",
              "    background-color: var(--disabled-bg-color);\n",
              "    fill: var(--disabled-fill-color);\n",
              "    box-shadow: none;\n",
              "  }\n",
              "\n",
              "  .colab-df-spinner {\n",
              "    border: 2px solid var(--fill-color);\n",
              "    border-color: transparent;\n",
              "    border-bottom-color: var(--fill-color);\n",
              "    animation:\n",
              "      spin 1s steps(1) infinite;\n",
              "  }\n",
              "\n",
              "  @keyframes spin {\n",
              "    0% {\n",
              "      border-color: transparent;\n",
              "      border-bottom-color: var(--fill-color);\n",
              "      border-left-color: var(--fill-color);\n",
              "    }\n",
              "    20% {\n",
              "      border-color: transparent;\n",
              "      border-left-color: var(--fill-color);\n",
              "      border-top-color: var(--fill-color);\n",
              "    }\n",
              "    30% {\n",
              "      border-color: transparent;\n",
              "      border-left-color: var(--fill-color);\n",
              "      border-top-color: var(--fill-color);\n",
              "      border-right-color: var(--fill-color);\n",
              "    }\n",
              "    40% {\n",
              "      border-color: transparent;\n",
              "      border-right-color: var(--fill-color);\n",
              "      border-top-color: var(--fill-color);\n",
              "    }\n",
              "    60% {\n",
              "      border-color: transparent;\n",
              "      border-right-color: var(--fill-color);\n",
              "    }\n",
              "    80% {\n",
              "      border-color: transparent;\n",
              "      border-right-color: var(--fill-color);\n",
              "      border-bottom-color: var(--fill-color);\n",
              "    }\n",
              "    90% {\n",
              "      border-color: transparent;\n",
              "      border-bottom-color: var(--fill-color);\n",
              "    }\n",
              "  }\n",
              "</style>\n",
              "\n",
              "  <script>\n",
              "    async function quickchart(key) {\n",
              "      const quickchartButtonEl =\n",
              "        document.querySelector('#' + key + ' button');\n",
              "      quickchartButtonEl.disabled = true;  // To prevent multiple clicks.\n",
              "      quickchartButtonEl.classList.add('colab-df-spinner');\n",
              "      try {\n",
              "        const charts = await google.colab.kernel.invokeFunction(\n",
              "            'suggestCharts', [key], {});\n",
              "      } catch (error) {\n",
              "        console.error('Error during call to suggestCharts:', error);\n",
              "      }\n",
              "      quickchartButtonEl.classList.remove('colab-df-spinner');\n",
              "      quickchartButtonEl.classList.add('colab-df-quickchart-complete');\n",
              "    }\n",
              "    (() => {\n",
              "      let quickchartButtonEl =\n",
              "        document.querySelector('#df-ac870c00-3071-48f2-a59b-7029601d2a4a button');\n",
              "      quickchartButtonEl.style.display =\n",
              "        google.colab.kernel.accessAllowed ? 'block' : 'none';\n",
              "    })();\n",
              "  </script>\n",
              "</div>\n",
              "\n",
              "  <div id=\"id_fedbd5c0-4736-4db0-bdc0-addee54773f6\">\n",
              "    <style>\n",
              "      .colab-df-generate {\n",
              "        background-color: #E8F0FE;\n",
              "        border: none;\n",
              "        border-radius: 50%;\n",
              "        cursor: pointer;\n",
              "        display: none;\n",
              "        fill: #1967D2;\n",
              "        height: 32px;\n",
              "        padding: 0 0 0 0;\n",
              "        width: 32px;\n",
              "      }\n",
              "\n",
              "      .colab-df-generate:hover {\n",
              "        background-color: #E2EBFA;\n",
              "        box-shadow: 0px 1px 2px rgba(60, 64, 67, 0.3), 0px 1px 3px 1px rgba(60, 64, 67, 0.15);\n",
              "        fill: #174EA6;\n",
              "      }\n",
              "\n",
              "      [theme=dark] .colab-df-generate {\n",
              "        background-color: #3B4455;\n",
              "        fill: #D2E3FC;\n",
              "      }\n",
              "\n",
              "      [theme=dark] .colab-df-generate:hover {\n",
              "        background-color: #434B5C;\n",
              "        box-shadow: 0px 1px 3px 1px rgba(0, 0, 0, 0.15);\n",
              "        filter: drop-shadow(0px 1px 2px rgba(0, 0, 0, 0.3));\n",
              "        fill: #FFFFFF;\n",
              "      }\n",
              "    </style>\n",
              "    <button class=\"colab-df-generate\" onclick=\"generateWithVariable('offense_season')\"\n",
              "            title=\"Generate code using this dataframe.\"\n",
              "            style=\"display:none;\">\n",
              "\n",
              "  <svg xmlns=\"http://www.w3.org/2000/svg\" height=\"24px\"viewBox=\"0 0 24 24\"\n",
              "       width=\"24px\">\n",
              "    <path d=\"M7,19H8.4L18.45,9,17,7.55,7,17.6ZM5,21V16.75L18.45,3.32a2,2,0,0,1,2.83,0l1.4,1.43a1.91,1.91,0,0,1,.58,1.4,1.91,1.91,0,0,1-.58,1.4L9.25,21ZM18.45,9,17,7.55Zm-12,3A5.31,5.31,0,0,0,4.9,8.1,5.31,5.31,0,0,0,1,6.5,5.31,5.31,0,0,0,4.9,4.9,5.31,5.31,0,0,0,6.5,1,5.31,5.31,0,0,0,8.1,4.9,5.31,5.31,0,0,0,12,6.5,5.46,5.46,0,0,0,6.5,12Z\"/>\n",
              "  </svg>\n",
              "    </button>\n",
              "    <script>\n",
              "      (() => {\n",
              "      const buttonEl =\n",
              "        document.querySelector('#id_fedbd5c0-4736-4db0-bdc0-addee54773f6 button.colab-df-generate');\n",
              "      buttonEl.style.display =\n",
              "        google.colab.kernel.accessAllowed ? 'block' : 'none';\n",
              "\n",
              "      buttonEl.onclick = () => {\n",
              "        google.colab.notebook.generateWithVariable('offense_season');\n",
              "      }\n",
              "      })();\n",
              "    </script>\n",
              "  </div>\n",
              "\n",
              "    </div>\n",
              "  </div>\n"
            ],
            "application/vnd.google.colaboratory.intrinsic+json": {
              "type": "dataframe",
              "variable_name": "offense_season"
            }
          },
          "metadata": {},
          "execution_count": 3308
        }
      ]
    },
    {
      "cell_type": "markdown",
      "source": [
        "In order to merge defense_season with salaries_defense I need to lowercase the defense_season data or else nothing will map properly and I will get no data"
      ],
      "metadata": {
        "id": "cTTSf7-6xs0K"
      }
    },
    {
      "cell_type": "code",
      "source": [
        "#lowercase all the data in the Team column in the defense_season data\n",
        "defense_season['Team'] = defense_season['Team'].str.lower()"
      ],
      "metadata": {
        "id": "l47ZMTKVuglA"
      },
      "execution_count": null,
      "outputs": []
    },
    {
      "cell_type": "code",
      "source": [
        "# merge defense_season on Team column and salaries_defense on Name column\n",
        "defense_season = pd.merge(defense_season, salaries_defense, left_on='Team', right_on='Name', how='inner')"
      ],
      "metadata": {
        "id": "sV-TGzdUtAwC"
      },
      "execution_count": null,
      "outputs": []
    },
    {
      "cell_type": "markdown",
      "source": [
        "Yay! We now have season data combined with salary data for both offense and defense!"
      ],
      "metadata": {
        "id": "c8TfU-p4yWhk"
      }
    },
    {
      "cell_type": "markdown",
      "source": [
        "Now lets add the fantasy points to offense\n",
        "\n",
        "Note(There is missing data in the defense sheet so we will use a different metric to see how well our model is working for the defense data)"
      ],
      "metadata": {
        "id": "oHypOgcU9RO9"
      }
    },
    {
      "cell_type": "markdown",
      "source": [
        "We first need to make sure any Nan values are 0 or else some calculations will not work"
      ],
      "metadata": {
        "id": "3QnfRUW8_ah9"
      }
    },
    {
      "cell_type": "code",
      "source": [
        "# Replace NaN values with 0 in the offense_season DataFrame\n",
        "offense_season.fillna(0, inplace=True)\n",
        "defense_season.fillna(0, inplace=True)"
      ],
      "metadata": {
        "id": "SR6Smujm-yTh"
      },
      "execution_count": null,
      "outputs": []
    },
    {
      "cell_type": "markdown",
      "source": [
        "Lets start by calcuting offense fantasy points. I will be using this as the testing variable to see how well my new constraints perform for offense players."
      ],
      "metadata": {
        "id": "VlE8vmPi_3aT"
      }
    },
    {
      "cell_type": "code",
      "source": [
        "def calculate_offense_fantasy_points(row):\n",
        "    \"\"\"Calculate fantasy points for an offensive player.\"\"\"\n",
        "    offense_fantasy_points = 0\n",
        "\n",
        "    # Passing stats\n",
        "    offense_fantasy_points += 4 * row.get('Pass TD', 0)  # +4 pts per passing TD\n",
        "    offense_fantasy_points += 0.04 * row.get('Pass Yds', 0)  # +0.04 pts per passing yard\n",
        "    if row.get('Pass Yds', 0) >= 300:  # +3 pts for 300+ passing yards\n",
        "        offense_fantasy_points += 3\n",
        "    offense_fantasy_points += -1 * row.get('Pass Int', 0)  # -1 pt per interception\n",
        "\n",
        "    # Rushing stats\n",
        "    offense_fantasy_points += 6 * row.get('Rush TD', 0)  # +6 pts per rushing TD\n",
        "    offense_fantasy_points += 0.1 * row.get('Rush Yds', 0)  # +0.1 pts per rushing yard\n",
        "    if row.get('Rush Yds', 0) >= 100:  # +3 pts for 100+ rushing yards\n",
        "        offense_fantasy_points += 3\n",
        "\n",
        "    # Receiving stats\n",
        "    offense_fantasy_points += 6 * row.get('Rcv TD', 0)  # +6 pts per receiving TD\n",
        "    offense_fantasy_points += 0.1 * row.get('Rcv Yds', 0)  # +0.1 pts per receiving yard\n",
        "    if row.get('Rcv Yds', 0) >= 100:  # +3 pts for 100+ receiving yards\n",
        "        offense_fantasy_points += 3\n",
        "    offense_fantasy_points += 1 * row.get('Rec', 0)  # +1 pt per reception\n",
        "\n",
        "    # Miscellaneous\n",
        "    offense_fantasy_points += -1 * row.get('Fmb', 0)  # -1 pt per fumble lost\n",
        "    offense_fantasy_points += 2 * row.get('2pt Conversions', 0)  # +2 pts per 2-point conversion\n",
        "    offense_fantasy_points += 6 * row.get('Fumble Recovery TD', 0)  # +6 pts per offensive fumble recovery TD\n",
        "\n",
        "    # Special Teams / Miscellaneous\n",
        "    offense_fantasy_points += 6 * row.get('Punt/Kickoff/FG Return for TD', 0)\n",
        "\n",
        "    return offense_fantasy_points\n",
        "\n",
        "# Apply the function to create a new 'FantasyPoints' column\n",
        "offense_season['FantasyPoints'] = offense_season.apply(calculate_offense_fantasy_points, axis=1)"
      ],
      "metadata": {
        "id": "OkGJJJhMybhK"
      },
      "execution_count": null,
      "outputs": []
    },
    {
      "cell_type": "markdown",
      "source": [
        "#What is my Strategy\n",
        "\n",
        "Lets try a few different constraints and test them based on fantasy points for offense and AvgPointsPerGame for defense. The best performing constraints will be put into my actual model and I will use that model to pick my team from the week 17 data."
      ],
      "metadata": {
        "id": "QXtB1xSGC0Vc"
      }
    },
    {
      "cell_type": "markdown",
      "source": [
        "I am going to start by adding a home vs away column so we can see if offense or defense perform better when they are in their home stadium"
      ],
      "metadata": {
        "id": "ZaXZyEA7DoJI"
      }
    },
    {
      "cell_type": "code",
      "source": [
        "#extracts the home and way teams from the game info column by splitting the data in the string into seperate teams at the @\n",
        "#it them compares each teams abbreviation (TeamAbbrev) and sees if it matches the home team column\n",
        "offense_season[['home_team', 'away_team']] = offense_season['Game Info'].str.split('@', expand=True)\n",
        "offense_season['home'] = offense_season['TeamAbbrev'] == offense_season['home_team']"
      ],
      "metadata": {
        "id": "yqnHRe1UBvSs"
      },
      "execution_count": null,
      "outputs": []
    },
    {
      "cell_type": "code",
      "source": [
        "same as above\n",
        "defense_season[['home_team', 'away_team']] = defense_season['Game Info'].str.split('@', expand=True)\n",
        "defense_season['Home'] = defense_season['TeamAbbrev'] == defense_season['home_team']"
      ],
      "metadata": {
        "id": "hztATkpNEcx1"
      },
      "execution_count": null,
      "outputs": []
    },
    {
      "cell_type": "code",
      "source": [
        "#a function that analyzes performanse of offense players by using the Fantasy Score column in offense and then compares to the home column and finds out if players perform better at their home field or away\n",
        "\n",
        "def analyze_home_away_performance(df, position):\n",
        "\n",
        "    # Filter for the specified position\n",
        "        #explanation:\n",
        "        #df['Position'] extracts the 'Position' column from the DataFrame.\n",
        "        #== position compares each row's value in the 'Position' column to the variable position\n",
        "        #basically decides if the row should be included or not\n",
        "    position_df = df[df['Position'] == position]\n",
        "\n",
        "    # Calculate the mean fantasy points at home and away\n",
        "        #walk through:\n",
        "        #position_df['home'] == True → Filters the dataset for only home games.\n",
        "        #.loc[..., 'FantasyPoints'] → Selects the 'FantasyPoints' column for those games.\n",
        "        #.mean() → Computes the average fantasy points for home games.\n",
        "    home_performance = position_df.loc[position_df['home'] == True, 'FantasyPoints'].mean()\n",
        "    away_performance = position_df.loc[position_df['home'] == False, 'FantasyPoints'].mean()\n",
        "\n",
        "    print(f\"Analysis for {position}:\")\n",
        "    print(f\"Average Fantasy Points at Home: {home_performance:.2f}\")\n",
        "    print(f\"Average Fantasy Points Away: {away_performance:.2f}\")\n",
        "\n",
        "    if home_performance > away_performance:\n",
        "        print(f\"{position} players tend to perform better at home.\")\n",
        "    elif away_performance > home_performance:\n",
        "        print(f\"{position} players tend to perform better away.\")\n",
        "    else:\n",
        "        print(f\"No significant difference in performance observed between home and away games for {position} players.\")\n",
        "\n",
        "    return home_performance, away_performance\n",
        "\n",
        "# Example usage (assuming 'offense_season' DataFrame is available):\n",
        "#I probably just asked chat to print out the function so I didnt have to type this outgood to be efficient with little things\n",
        "analyze_home_away_performance(offense_season, 'QB')\n",
        "analyze_home_away_performance(offense_season, 'RB')\n",
        "analyze_home_away_performance(offense_season, 'WR')\n",
        "analyze_home_away_performance(offense_season, 'TE')\n"
      ],
      "metadata": {
        "colab": {
          "base_uri": "https://localhost:8080/"
        },
        "id": "qYVA0c2aGSWM",
        "outputId": "d3088d2b-da55-48db-93da-ed4bb49f95a0"
      },
      "execution_count": null,
      "outputs": [
        {
          "output_type": "stream",
          "name": "stdout",
          "text": [
            "Analysis for QB:\n",
            "Average Fantasy Points at Home: -2.91\n",
            "Average Fantasy Points Away: -2.31\n",
            "QB players tend to perform better away.\n",
            "Analysis for RB:\n",
            "Average Fantasy Points at Home: 7.73\n",
            "Average Fantasy Points Away: 6.60\n",
            "RB players tend to perform better at home.\n",
            "Analysis for WR:\n",
            "Average Fantasy Points at Home: 13.36\n",
            "Average Fantasy Points Away: 13.68\n",
            "WR players tend to perform better away.\n",
            "Analysis for TE:\n",
            "Average Fantasy Points at Home: 10.81\n",
            "Average Fantasy Points Away: 11.14\n",
            "TE players tend to perform better away.\n"
          ]
        },
        {
          "output_type": "execute_result",
          "data": {
            "text/plain": [
              "(10.81, 11.138613861386139)"
            ]
          },
          "metadata": {},
          "execution_count": 3315
        }
      ]
    },
    {
      "cell_type": "markdown",
      "source": [
        "Based off the results I will not make a constraint of offense players needing to be home players for the week 17 game"
      ],
      "metadata": {
        "id": "63JHqDQCGyFG"
      }
    },
    {
      "cell_type": "code",
      "source": [
        "def analyze_defense_performance(defense_data):\n",
        "\n",
        "    # Calculate the mean AvgPointsPerGame at home and away\n",
        "             #walk through:\n",
        "        #defense_data['Home'] == True → Filters the dataset for only home games.\n",
        "        #.loc[..., 'AvgPointsPerGame'] → Selects the 'AvgPointsPerGame' column for those games.\n",
        "        #.mean() → Computes the average fantasy points for home games.\n",
        "    home_performance = defense_data.loc[defense_data['Home'] == True, 'AvgPointsPerGame'].mean()\n",
        "    away_performance = defense_data.loc[defense_data['Home'] == False, 'AvgPointsPerGame'].mean()\n",
        "\n",
        "    print(f\"Analysis for Defense:\")\n",
        "    print(f\"Average AvgPointsPerGame at Home: {home_performance:.2f}\")\n",
        "    print(f\"Average AvgPointsPerGame Away: {away_performance:.2f}\")\n",
        "\n",
        "    if home_performance > away_performance:\n",
        "        print(f\"Defense players tend to perform better at home.\")\n",
        "    elif away_performance > home_performance:\n",
        "        print(f\"Defense players tend to perform better away.\")\n",
        "    else:\n",
        "        print(f\"No significant difference in performance observed between home and away games for defense players.\")\n",
        "\n",
        "    return home_performance, away_performance\n",
        "\n",
        "# Example usage (assuming 'defense_season' DataFrame is available):\n",
        "analyze_defense_performance(defense_season)\n"
      ],
      "metadata": {
        "colab": {
          "base_uri": "https://localhost:8080/"
        },
        "id": "m9ar4aYUGqQ2",
        "outputId": "57b1bf29-a252-4018-975d-9c433d9cf276"
      },
      "execution_count": null,
      "outputs": [
        {
          "output_type": "stream",
          "name": "stdout",
          "text": [
            "Analysis for Defense:\n",
            "Average AvgPointsPerGame at Home: 6.38\n",
            "Average AvgPointsPerGame Away: 6.18\n",
            "Defense players tend to perform better at home.\n"
          ]
        },
        {
          "output_type": "execute_result",
          "data": {
            "text/plain": [
              "(6.385, 6.175714285714286)"
            ]
          },
          "metadata": {},
          "execution_count": 3316
        }
      ]
    },
    {
      "cell_type": "markdown",
      "source": [
        "It is true based off the data above that defense teams do better when they perform at their home team. However, since the difference is so slight I do not think it would be smart to constrain the defense team to only being the home team."
      ],
      "metadata": {
        "id": "tR5CL67eHTU_"
      }
    },
    {
      "cell_type": "markdown",
      "source": [
        "My next test I am going to do to find another constraint is find out if certain aged players perform better than other aged players"
      ],
      "metadata": {
        "id": "kXalpc_vH-m1"
      }
    },
    {
      "cell_type": "code",
      "source": [
        "#function to analyze performance of offense players based off age using Fantasy points to see how well they are performing\n",
        "def analyze_player_performance_by_age(df, position): #function takes two parameters dataframe and position\n",
        "\n",
        "    # Filter for the specified position\n",
        "   #explanation:\n",
        "        #df['Position'] extracts the 'Position' column from the DataFrame.\n",
        "        #== position compares each row's value in the 'Position' column to the variable position\n",
        "        #basically decides if the row should be included or not\n",
        "    position_df = df[df['Position'] == position]\n",
        "\n",
        "    # Group players by age ranges and calculate the average fantasy points\n",
        "    age_performance = {} #emplty dictionary to store avg fantasy points for the age groups\n",
        "    for age_start in range(20, 45, 5):  # I didnt see anyone above the age of 45 in my data so this felt like a good age range (and no one below 20)\n",
        "        age_end = age_start + 5\n",
        "        age_group = position_df[(position_df['Age'] >= age_start) & (position_df['Age'] < age_end)] #extracts age column from position_df checks if each players age is greater than or equal to age start and checks if each players age is less than age_end and keeps only when condition is true\n",
        "        avg_fantasy_points = age_group['FantasyPoints'].mean()\n",
        "\n",
        "        if not pd.isna(avg_fantasy_points): #check for NAN\n",
        "          age_performance[f\"{age_start}-{age_end}\"] = avg_fantasy_points\n",
        "\n",
        "\n",
        "    return age_performance"
      ],
      "metadata": {
        "id": "fdB83EfWHuGi"
      },
      "execution_count": null,
      "outputs": []
    },
    {
      "cell_type": "code",
      "source": [
        "# testing for different positions\n",
        "qb_age_performance = analyze_player_performance_by_age(offense_season, 'QB')\n",
        "print(\"QB Age Performance:\", qb_age_performance)\n",
        "\n",
        "rb_age_performance = analyze_player_performance_by_age(offense_season, 'RB')\n",
        "print(\"RB Age Performance:\", rb_age_performance)\n",
        "\n",
        "wr_age_performance = analyze_player_performance_by_age(offense_season, 'WR')\n",
        "print(\"WR Age Performance:\", wr_age_performance)\n",
        "\n",
        "te_age_performance = analyze_player_performance_by_age(offense_season, 'TE')\n",
        "print(\"TE Age Performance:\", te_age_performance)"
      ],
      "metadata": {
        "colab": {
          "base_uri": "https://localhost:8080/"
        },
        "id": "Zxu37umbJRKj",
        "outputId": "ff3d070e-047d-4d67-f537-2dc456fab0b2"
      },
      "execution_count": null,
      "outputs": [
        {
          "output_type": "stream",
          "name": "stdout",
          "text": [
            "QB Age Performance: {'20-25': -2.727272727272727, '25-30': -2.673076923076923, '30-35': -1.8888888888888888, '35-40': -3.466666666666667, '40-45': -3.3333333333333335}\n",
            "RB Age Performance: {'20-25': 8.023255813953488, '25-30': 6.627586206896551, '30-35': 8.1}\n",
            "WR Age Performance: {'20-25': 14.0828025477707, '25-30': 11.989189189189188, '30-35': 16.862068965517242}\n",
            "TE Age Performance: {'20-25': 10.425925925925926, '25-30': 11.336538461538462, '30-35': 11.292682926829269, '40-45': 0.5}\n"
          ]
        }
      ]
    },
    {
      "cell_type": "markdown",
      "source": [
        "Based off the output there is not a strong correlation between age and performance so we will not use this constraint"
      ],
      "metadata": {
        "id": "UXNjOpkzJ9I9"
      }
    },
    {
      "cell_type": "markdown",
      "source": [
        "The next condition I want to test is whether or not there is an impact of stacking a QB with WRs or TEs from the same team."
      ],
      "metadata": {
        "id": "bMfi2OOjLM3i"
      }
    },
    {
      "cell_type": "code",
      "source": [
        "#a function that determines if there is a positive impact of stacking qb with wr or tes from the same team. use the Fantasy Points column from offense_season\n",
        "\n",
        "def analyze_stacking_impact(df):\n",
        "\n",
        "    team_stacking_impact = {}\n",
        "    for team in df['Team'].unique(): #extracts all unique team names from the team column and loops them seperatly\n",
        "        team_df = df[df['Team'] == team] #Filters the dataset to include only players from the current team in the loop.\n",
        "        qb_players = team_df[team_df['Position'] == 'QB'] #extracts all qb from qb_players\n",
        "        wr_te_players = team_df[team_df['Position'].isin(['WR', 'TE'])] # extracts all WR and TEs because thats what we will stack\n",
        "\n",
        "        if not qb_players.empty and not wr_te_players.empty:#checks if the stacking is possible (does the team have atleast one qb and one wr or te if not it skips the team)\n",
        "            stacked_fantasy_points = []\n",
        "            non_stacked_fantasy_points = []\n",
        "\n",
        "            # Simulate stacked lineups #the _, is a throaway variable that throwaway variable that lets puthon ignore values that arent used so I dont have to assign variables to the index that arent used\n",
        "            for _, qb_row in qb_players.iterrows(): #loops all qbs on the team\n",
        "              for _, wr_te_row in wr_te_players.iterrows(): #Loops through all WRs & TEs on the same team (wr_te_players)\n",
        "                  stacked_fantasy_points.append(qb_row['FantasyPoints'] + wr_te_row['FantasyPoints']) #adds the fantasy points and puts them in the stacked fantasy points list\n",
        "\n",
        "            # Simulate non-stacked lineups (using the same players)\n",
        "            for _, qb_row in qb_players.iterrows():\n",
        "                non_stacked_fantasy_points.append(qb_row['FantasyPoints'])\n",
        "            for _, wr_te_row in wr_te_players.iterrows():\n",
        "                non_stacked_fantasy_points.append(wr_te_row['FantasyPoints'])\n",
        "\n",
        "            team_stacking_impact[team] = {\n",
        "                'stacked_avg': np.mean(stacked_fantasy_points) if stacked_fantasy_points else 0,\n",
        "                'non_stacked_avg': np.mean(non_stacked_fantasy_points) if non_stacked_fantasy_points else 0,\n",
        "            }\n",
        "\n",
        "    return team_stacking_impact\n",
        "\n",
        "# Example usage:\n",
        "stacking_impact = analyze_stacking_impact(offense_season)\n",
        "\n",
        "# Print the results\n",
        "for team, impact in stacking_impact.items():\n",
        "    print(f\"Team: {team}\")\n",
        "    print(f\"  Average Stacked Fantasy Points: {impact['stacked_avg']:.2f}\")\n",
        "    print(f\"  Average Non-Stacked Fantasy Points: {impact['non_stacked_avg']:.2f}\")\n",
        "    print(f\"  Difference: {impact['stacked_avg'] - impact['non_stacked_avg']:.2f}\")\n"
      ],
      "metadata": {
        "id": "pxcR7gCyKEXl",
        "colab": {
          "base_uri": "https://localhost:8080/"
        },
        "outputId": "2ebff46c-b0d0-4567-df3d-d44ac8073f84"
      },
      "execution_count": null,
      "outputs": [
        {
          "output_type": "stream",
          "name": "stdout",
          "text": [
            "Team: CIN\n",
            "  Average Stacked Fantasy Points: 11.15\n",
            "  Average Non-Stacked Fantasy Points: 11.85\n",
            "  Difference: -0.71\n",
            "Team: DET\n",
            "  Average Stacked Fantasy Points: 13.80\n",
            "  Average Non-Stacked Fantasy Points: 11.44\n",
            "  Difference: 2.36\n",
            "Team: TAM\n",
            "  Average Stacked Fantasy Points: 8.89\n",
            "  Average Non-Stacked Fantasy Points: 9.46\n",
            "  Difference: -0.57\n",
            "Team: SEA\n",
            "  Average Stacked Fantasy Points: 11.71\n",
            "  Average Non-Stacked Fantasy Points: 10.78\n",
            "  Difference: 0.94\n",
            "Team: MIN\n",
            "  Average Stacked Fantasy Points: 15.80\n",
            "  Average Non-Stacked Fantasy Points: 12.43\n",
            "  Difference: 3.37\n",
            "Team: NYJ\n",
            "  Average Stacked Fantasy Points: 12.42\n",
            "  Average Non-Stacked Fantasy Points: 10.48\n",
            "  Difference: 1.94\n",
            "Team: LAC\n",
            "  Average Stacked Fantasy Points: 8.73\n",
            "  Average Non-Stacked Fantasy Points: 8.00\n",
            "  Difference: 0.73\n",
            "Team: SFO\n",
            "  Average Stacked Fantasy Points: 8.37\n",
            "  Average Non-Stacked Fantasy Points: 6.83\n",
            "  Difference: 1.53\n",
            "Team: ARI\n",
            "  Average Stacked Fantasy Points: 14.56\n",
            "  Average Non-Stacked Fantasy Points: 11.95\n",
            "  Difference: 2.61\n",
            "Team: DEN\n",
            "  Average Stacked Fantasy Points: 11.53\n",
            "  Average Non-Stacked Fantasy Points: 9.71\n",
            "  Difference: 1.82\n",
            "Team: LAR\n",
            "  Average Stacked Fantasy Points: 11.83\n",
            "  Average Non-Stacked Fantasy Points: 10.55\n",
            "  Difference: 1.27\n",
            "Team: BUF\n",
            "  Average Stacked Fantasy Points: 10.01\n",
            "  Average Non-Stacked Fantasy Points: 8.48\n",
            "  Difference: 1.53\n",
            "Team: WAS\n",
            "  Average Stacked Fantasy Points: 11.71\n",
            "  Average Non-Stacked Fantasy Points: 10.04\n",
            "  Difference: 1.68\n",
            "Team: CHI\n",
            "  Average Stacked Fantasy Points: 9.30\n",
            "  Average Non-Stacked Fantasy Points: 9.21\n",
            "  Difference: 0.09\n",
            "Team: ATL\n",
            "  Average Stacked Fantasy Points: 4.75\n",
            "  Average Non-Stacked Fantasy Points: 10.10\n",
            "  Difference: -5.35\n",
            "Team: GNB\n",
            "  Average Stacked Fantasy Points: 10.28\n",
            "  Average Non-Stacked Fantasy Points: 8.81\n",
            "  Difference: 1.48\n",
            "Team: PHI\n",
            "  Average Stacked Fantasy Points: 8.87\n",
            "  Average Non-Stacked Fantasy Points: 7.23\n",
            "  Difference: 1.64\n",
            "Team: MIA\n",
            "  Average Stacked Fantasy Points: 10.14\n",
            "  Average Non-Stacked Fantasy Points: 7.29\n",
            "  Difference: 2.84\n",
            "Team: CAR\n",
            "  Average Stacked Fantasy Points: 6.33\n",
            "  Average Non-Stacked Fantasy Points: 6.67\n",
            "  Difference: -0.33\n",
            "Team: NWE\n",
            "  Average Stacked Fantasy Points: 9.56\n",
            "  Average Non-Stacked Fantasy Points: 9.52\n",
            "  Difference: 0.04\n",
            "Team: NOR\n",
            "  Average Stacked Fantasy Points: 6.68\n",
            "  Average Non-Stacked Fantasy Points: 5.83\n",
            "  Difference: 0.86\n",
            "Team: CLE\n",
            "  Average Stacked Fantasy Points: 10.33\n",
            "  Average Non-Stacked Fantasy Points: 7.87\n",
            "  Difference: 2.46\n",
            "Team: TEN\n",
            "  Average Stacked Fantasy Points: 2.96\n",
            "  Average Non-Stacked Fantasy Points: 5.28\n",
            "  Difference: -2.32\n",
            "Team: NYG\n",
            "  Average Stacked Fantasy Points: 15.74\n",
            "  Average Non-Stacked Fantasy Points: 9.48\n",
            "  Difference: 6.25\n",
            "Team: JAX\n",
            "  Average Stacked Fantasy Points: 6.63\n",
            "  Average Non-Stacked Fantasy Points: 6.00\n",
            "  Difference: 0.63\n",
            "Team: LVR\n",
            "  Average Stacked Fantasy Points: 9.33\n",
            "  Average Non-Stacked Fantasy Points: 8.22\n",
            "  Difference: 1.11\n",
            "Team: DAL\n",
            "  Average Stacked Fantasy Points: 12.66\n",
            "  Average Non-Stacked Fantasy Points: 9.83\n",
            "  Difference: 2.83\n",
            "Team: IND\n",
            "  Average Stacked Fantasy Points: 7.83\n",
            "  Average Non-Stacked Fantasy Points: 8.12\n",
            "  Difference: -0.29\n",
            "Team: 2TM\n",
            "  Average Stacked Fantasy Points: 14.58\n",
            "  Average Non-Stacked Fantasy Points: 11.67\n",
            "  Difference: 2.92\n"
          ]
        }
      ]
    },
    {
      "cell_type": "markdown",
      "source": [
        "As a whole there is a poitive impact of stacking team members on the same team.I will try to incorporate this into my model"
      ],
      "metadata": {
        "id": "dlCOFBI-LZGb"
      }
    },
    {
      "cell_type": "markdown",
      "source": [
        "Next I will sort the offense_season data so that we only use the most recent 8 games for each player. This will make our model more accurate because it will base of more recent data. It will probably make our model perform poorly on the old data we have though when we test on the exisiting week 17 data so that has to be kept in mind."
      ],
      "metadata": {
        "id": "h2er_nxUW_Zg"
      }
    },
    {
      "cell_type": "markdown",
      "source": [
        "Start by adding a Game data column to the offense_season data so we can sort by most recent games for each player"
      ],
      "metadata": {
        "id": "6qeOgGxcNuOr"
      }
    },
    {
      "cell_type": "code",
      "source": [
        "def sort_and_filter_offense_data(offense_season):\n",
        "    \"\"\"Sorts offense_season data by player and game date, keeping only the 10 most recent games per player.\"\"\"\n",
        "\n",
        "    # Extract the date from the 'Game Info' column (last part of the string)\n",
        "    offense_season['Game Date'] = offense_season['Game Info'].apply(\n",
        "        lambda x: re.search(r'\\d{1,2}/\\d{1,2}/\\d{4}', x).group() if pd.notna(x) else None #searches for the date in the format:MM/DD/YYYY or M/D/YYYY\n",
        "    )\n",
        "\n",
        "    # Convert the extracted 'Game Date' to a datetime format\n",
        "    offense_season['Game Date'] = pd.to_datetime(offense_season['Game Date'], format='%m/%d/%Y')\n",
        "\n",
        "# Apply the function\n",
        "offense_season_filtered = sort_and_filter_offense_data(offense_season)\n",
        "\n",
        "#offense_season"
      ],
      "metadata": {
        "id": "C1ngXggVIhb8"
      },
      "execution_count": null,
      "outputs": []
    },
    {
      "cell_type": "code",
      "source": [
        "def filter_recent_games(offense_season, num_games=8):\n",
        "    \"\"\"Filters the offense_season data to keep only the most recent `num_games` for each player.\"\"\"\n",
        "\n",
        "    # Drop any rows where 'Game Date' is missing\n",
        "    offense_season = offense_season.dropna(subset=['Game Date'])\n",
        "\n",
        "    # Sort by Player and Game Date (most recent first)\n",
        "    offense_season_sorted = offense_season.sort_values(by=['Player', 'Game Date'], ascending=[True, False])\n",
        "\n",
        "    # Keep only the most recent `num_games` per player\n",
        "    offense_season_filtered = offense_season_sorted.groupby('Player').head(num_games)\n",
        "\n",
        "    return offense_season_filtered\n",
        "\n",
        "# Apply the function to filter down to 8 games per player\n",
        "offense_season_filtered = filter_recent_games(offense_season, num_games=8)\n",
        "\n",
        "# Display the new dataset size\n",
        "print(f\"Original dataset size: {len(offense_season)}\")\n",
        "print(f\"Filtered dataset size: {len(offense_season_filtered)}\")\n"
      ],
      "metadata": {
        "colab": {
          "base_uri": "https://localhost:8080/"
        },
        "id": "mnf_xcUbP47u",
        "outputId": "3fcb452a-a353-4a74-ea54-bcce1eef3e53"
      },
      "execution_count": null,
      "outputs": [
        {
          "output_type": "stream",
          "name": "stdout",
          "text": [
            "Original dataset size: 1042\n",
            "Filtered dataset size: 1041\n"
          ]
        }
      ]
    },
    {
      "cell_type": "markdown",
      "source": [
        "Hmmm thats strange? Why is it only removing 1 data point. Lets check what the average amount of games a player plays in is"
      ],
      "metadata": {
        "id": "y9L-BtTUQZ4E"
      }
    },
    {
      "cell_type": "code",
      "source": [
        "# Calculate the average number of games played per player\n",
        "average_games_per_player = offense_season['Player'].value_counts().mean()\n",
        "\n",
        "# Display the result\n",
        "print(f\"The average number of games a player played in: {average_games_per_player:.2f}\")\n"
      ],
      "metadata": {
        "colab": {
          "base_uri": "https://localhost:8080/"
        },
        "id": "-2butJVAQUzj",
        "outputId": "16ed8c52-a3b6-423a-8f94-d3cc426a562e"
      },
      "execution_count": null,
      "outputs": [
        {
          "output_type": "stream",
          "name": "stdout",
          "text": [
            "The average number of games a player played in: 2.27\n"
          ]
        }
      ]
    },
    {
      "cell_type": "markdown",
      "source": [
        "It looks like each player only plays in 2 games on average so using a filter for the past 8 games makes no sense."
      ],
      "metadata": {
        "id": "InyT18AxQoSW"
      }
    },
    {
      "cell_type": "markdown",
      "source": [
        "Ok we tested a few different concepts in the end the constraints I will add to the model are:\n",
        "\n",
        "- Interception Penalty Constraint\n",
        "- QB-WR/TE Positive Stacking Constraint\n",
        "- Consistency-Based Player Selection\n",
        "\n",
        "I will explain each of these constraints in the constraint section"
      ],
      "metadata": {
        "id": "lZFUPk4ydImL"
      }
    },
    {
      "cell_type": "markdown",
      "source": [
        "##Now lets start the model!"
      ],
      "metadata": {
        "id": "_j9g2JRZYqDg"
      }
    },
    {
      "cell_type": "markdown",
      "source": [
        "Step 1: filter players by poistion"
      ],
      "metadata": {
        "id": "Ci5_PZIVYwTx"
      }
    },
    {
      "cell_type": "code",
      "source": [
        "# Filter players by position\n",
        "qbs = offense_season[offense_season['Position'] == 'QB']\n",
        "rbs = offense_season[offense_season['Position'] == 'RB']\n",
        "wrs = offense_season[offense_season['Position'] == 'WR']\n",
        "tes = offense_season[offense_season['Position'] == 'TE']\n",
        "flex_players = pd.concat([rbs, wrs, tes])\n",
        "flex_players['Position'] = 'FLEX'  # Add a 'Position' column to identify flex players\n",
        "dsts = defense_season"
      ],
      "metadata": {
        "id": "JiRVIY2VYvrb"
      },
      "execution_count": null,
      "outputs": []
    },
    {
      "cell_type": "code",
      "source": [
        "print(f\"Available QBs: {len(qbs)}\")\n",
        "print(f\"Available RBs: {len(rbs)}\")\n",
        "print(f\"Available WRs: {len(wrs)}\")\n",
        "print(f\"Available TEs: {len(tes)}\")\n",
        "print(f\"Available FLEX options: {len(flex_players)}\")\n",
        "print(f\"Available DSTs: {len(dsts)}\")"
      ],
      "metadata": {
        "colab": {
          "base_uri": "https://localhost:8080/"
        },
        "id": "eTHMTCNQY0x8",
        "outputId": "b097c904-cf92-47db-efc3-2776429f34fe"
      },
      "execution_count": null,
      "outputs": [
        {
          "output_type": "stream",
          "name": "stdout",
          "text": [
            "Available QBs: 200\n",
            "Available RBs: 241\n",
            "Available WRs: 400\n",
            "Available TEs: 201\n",
            "Available FLEX options: 842\n",
            "Available DSTs: 28\n"
          ]
        }
      ]
    },
    {
      "cell_type": "markdown",
      "source": [
        "##Step 2: Use an Optimization Solver to Select the Best Lineup\n",
        "Now that I have all players categorized, I will:\n",
        "\n",
        "- Create decision variables (each player is either selected (1) or not selected (0)).\n",
        "- Set constraints for positions and salary cap.\n",
        "- Tell the solver to maximize total fantasy points.\n",
        "- Find the best lineup!"
      ],
      "metadata": {
        "id": "RIUptVXoY7Ou"
      }
    },
    {
      "cell_type": "code",
      "source": [
        "# Create an optimization model\n",
        "model.x = pe.ConcreteModel()"
      ],
      "metadata": {
        "id": "5ND4ghLjY8DT"
      },
      "execution_count": null,
      "outputs": []
    },
    {
      "cell_type": "code",
      "source": [
        "# Define decision variables for each player\n",
        "model.x.qb_vars = pe.Var(qbs.index, within=pe.Binary)\n",
        "model.x.rb_vars = pe.Var(rbs.index, within=pe.Binary)\n",
        "model.x.wr_vars = pe.Var(wrs.index, within=pe.Binary)\n",
        "model.x.te_vars = pe.Var(tes.index, within=pe.Binary)\n",
        "model.x.flex_vars = pe.Var(flex_players.index, within=pe.Binary)\n",
        "model.x.dst_vars = pe.Var(dsts.index, within=pe.Binary)"
      ],
      "metadata": {
        "id": "PYGi0-ojZBT0"
      },
      "execution_count": null,
      "outputs": []
    },
    {
      "cell_type": "code",
      "source": [
        "# Define the objective function to maximize total fantasy points\n",
        "def objective_rule(x):\n",
        "    return sum(x.qb_vars[i] * qbs.loc[i, 'FantasyPoints'] for i in qbs.index) + \\\n",
        "           sum(x.rb_vars[i] * rbs.loc[i, 'FantasyPoints'] for i in rbs.index) + \\\n",
        "           sum(x.wr_vars[i] * wrs.loc[i, 'FantasyPoints'] for i in wrs.index) + \\\n",
        "           sum(x.te_vars[i] * tes.loc[i, 'FantasyPoints'] for i in tes.index) + \\\n",
        "           sum(x.flex_vars[i] * flex_players.loc[i, 'FantasyPoints'] for i in flex_players.index) + \\\n",
        "           sum(x.dst_vars[i] * dsts.loc[i, 'AvgPointsPerGame'] for i in dsts.index) #We are not using Fantasy points because there is not enough data in the defense\n",
        "\n",
        "model.x.objective = pe.Objective(rule=objective_rule, sense=pe.maximize)\n"
      ],
      "metadata": {
        "id": "QoLJ-e9LaEGl"
      },
      "execution_count": null,
      "outputs": []
    },
    {
      "cell_type": "markdown",
      "source": [
        "###Now lets import our given constraints"
      ],
      "metadata": {
        "id": "AAPeQbnJZKpX"
      }
    },
    {
      "cell_type": "code",
      "source": [
        "# Define constraints for the number of players at each position\n",
        "model.x.qbs_constraint = pe.Constraint(expr=sum(model.x.qb_vars[i] for i in qbs.index) == 1)\n",
        "model.x.rbs_constraint = pe.Constraint(expr=sum(model.x.rb_vars[i] for i in rbs.index) == 2)\n",
        "model.x.wrs_constraint = pe.Constraint(expr=sum(model.x.wr_vars[i] for i in wrs.index) == 3)\n",
        "model.x.tes_constraint = pe.Constraint(expr=sum(model.x.te_vars[i] for i in tes.index) == 1)\n",
        "model.x.flex_constraint = pe.Constraint(expr=sum(model.x.flex_vars[i] for i in flex_players.index) == 1)\n",
        "model.x.dsts_constraint = pe.Constraint(expr=sum(model.x.dst_vars[i] for i in dsts.index) == 1)\n",
        "\n",
        "#Total players constraint\n",
        "model.x.total_players = pe.Constraint(expr=sum(model.x.qb_vars[i] for i in qbs.index) +\n",
        "                                     sum(model.x.rb_vars[i] for i in rbs.index) +\n",
        "                                     sum(model.x.wr_vars[i] for i in wrs.index) +\n",
        "                                     sum(model.x.te_vars[i] for i in tes.index) +\n",
        "                                     sum(model.x.flex_vars[i] for i in flex_players.index) +\n",
        "                                     sum(model.x.dst_vars[i] for i in dsts.index) == 9)\n"
      ],
      "metadata": {
        "id": "eQaRDzD7h8gh"
      },
      "execution_count": null,
      "outputs": []
    },
    {
      "cell_type": "code",
      "source": [
        "# Define the salary cap constraint\n",
        "model.x.salary_cap = pe.Constraint(expr=sum(model.x.qb_vars[i] * qbs.loc[i, 'Salary'] for i in qbs.index) +\n",
        "                                     sum(model.x.rb_vars[i] * rbs.loc[i, 'Salary'] for i in rbs.index) +\n",
        "                                     sum(model.x.wr_vars[i] * wrs.loc[i, 'Salary'] for i in wrs.index) +\n",
        "                                     sum(model.x.te_vars[i] * tes.loc[i, 'Salary'] for i in tes.index) +\n",
        "                                     sum(model.x.flex_vars[i] * flex_players.loc[i, 'Salary'] for i in flex_players.index) +\n",
        "                                     sum(model.x.dst_vars[i] * dsts.loc[i, 'Salary'] for i in dsts.index) <= 50000)\n"
      ],
      "metadata": {
        "id": "n_mGlEhMiGty"
      },
      "execution_count": null,
      "outputs": []
    },
    {
      "cell_type": "code",
      "source": [
        "# Create a set of unique game IDs from the 'Game Info' column\n",
        "games = set()\n",
        "for index, row in offense_season.iterrows():\n",
        "    games.add(row['Game Info'])\n",
        "for index, row in defense_season.iterrows():\n",
        "    games.add(row['Game Info'])\n",
        "game_list = list(games)\n",
        "game_index = range(len(game_list))\n",
        "game_map = dict(zip(game_list, game_index))\n",
        "\n",
        "\n",
        "# Constraint: At least 2 different games represented\n",
        "model.x.game_constraint = pe.Constraint(expr=sum(model.x.qb_vars[i] * game_map[offense_season.loc[i, 'Game Info']] for i in qbs.index) +\n",
        "                                        sum(model.x.rb_vars[i] * game_map[offense_season.loc[i, 'Game Info']] for i in rbs.index) +\n",
        "                                        sum(model.x.wr_vars[i] * game_map[offense_season.loc[i, 'Game Info']] for i in wrs.index) +\n",
        "                                        sum(model.x.te_vars[i] * game_map[offense_season.loc[i, 'Game Info']] for i in tes.index) +\n",
        "                                        sum(model.x.flex_vars[i] * game_map[offense_season.loc[i, 'Game Info']] for i in flex_players.index) +\n",
        "                                        sum(model.x.dst_vars[i] * game_map[defense_season.loc[i, 'Game Info']] for i in dsts.index) >= 2 )\n"
      ],
      "metadata": {
        "id": "Yz-V7QqejZgo"
      },
      "execution_count": null,
      "outputs": []
    },
    {
      "cell_type": "markdown",
      "source": [
        "##Now I am adding my given constraints:"
      ],
      "metadata": {
        "id": "qvvqgeUOkdT4"
      }
    },
    {
      "cell_type": "markdown",
      "source": [
        "### Interception Penalty Constraint\n",
        "\n",
        "Add a constraint to my model that doesnt allow you to select the quarter backs with the highest 10% of interception rates.\n",
        "\n",
        "Why?\n",
        "This constraint ensures that the optimization model avoids selecting quarterbacks who are prone to turnovers, as interceptions negatively impact fantasy points. By eliminating the top 10% of quarterbacks with the highest interception rates, the model prioritizes more consistent and reliable players who are less likely to lose points due to costly mistakes. This improves the overall scoring potential of the lineup while reducing risk, leading to a more optimal and stable fantasy team selection."
      ],
      "metadata": {
        "id": "P9q89gUHTIKq"
      }
    },
    {
      "cell_type": "code",
      "source": [
        "# Calculate interception percentage and adjusted fantasy points\n",
        "offense_season['Int%'] = offense_season['Int'] / offense_season['Att']   #devides the interceptions by pass attempts to find percentage\n",
        "offense_season['AdjustedFantasyPoints'] = offense_season['FantasyPoints'] * (1 - (offense_season['Int%'] / 10)) #adjusts the fantasy points of players by reducing the fantasy points based on the interception % (if int% is 5% then reduce fantasy points by 5%)\n",
        "\n",
        "# Identify the top 10% of QBs by interception rate\n",
        "top_10_percent_int_qbs = offense_season[offense_season['Position'] == 'QB'].nlargest(int(0.1 * len(offense_season[offense_season['Position'] == 'QB'])), 'Int%')\n",
        "\n",
        "# Constraint: Exclude QBs in the top 10% of interception rates\n",
        "model.x.interception_constraint = pe.Constraint(expr=sum(model.x.qb_vars[i] for i in top_10_percent_int_qbs.index) == 0)\n"
      ],
      "metadata": {
        "id": "QBFraPt9TIZR"
      },
      "execution_count": null,
      "outputs": []
    },
    {
      "cell_type": "markdown",
      "source": [
        "###QB-WR/TE Positive Stacking Constraint\n",
        "\n",
        "This constraint ensures that if a quarterback (QB) is selected, at least one wide receiver (WR) or tight end (TE) from the same team must also be selected in the lineup. It does this by checking each team's available QBs and WR/TEs, and only applying the rule to teams where both positions exist. This promotes stacking, which increases the potential for higher fantasy points by capitalizing on correlated player performances (e.g., a QB throwing a touchdown to their WR or TE)."
      ],
      "metadata": {
        "id": "NOnWUW65EPzg"
      }
    },
    {
      "cell_type": "code",
      "source": [
        "# Constraint: If a QB is selected, at least one WR or TE from the same team must also be selected\n",
        "model.x.qb_wr_te_stacking = pe.ConstraintList() #Creates an empty constraint list (qb_wr_te_stacking) within the model\n",
        "\n",
        "for team in offense_season['Team'].unique(): #extracts all unique names from the team column in the offense_season data iterates over each team to apply the constraints\n",
        "    qb_indices = [i for i in qbs.index if qbs.loc[i, 'Team'] == team] #extracts all indices of all gbs on the current team. uses a list combrehension to check if team matches the current team\n",
        "    wr_te_indices = [i for i in wrs.index if wrs.loc[i, 'Team'] == team] + [i for i in tes.index if tes.loc[i, 'Team'] == team] #finsa all wr and tes of the current team\n",
        "\n",
        "    # Only apply the constraint if both QBs and WR/TEs exist for this team\n",
        "    if qb_indices and wr_te_indices: #only loosk at teams where there are atleast 1 wr/te to go with qb for the team\n",
        "        qb_selected = sum(model.x.qb_vars[i] for i in qb_indices) #counts selected qbs and adds to the sum\n",
        "        wr_te_selected = sum(model.x.wr_vars[i] for i in wr_te_indices if i in wrs.index) + \\\n",
        "                         sum(model.x.te_vars[i] for i in wr_te_indices if i in tes.index) #Counts the number of selected WRs and TEs for this team.\n",
        "                                                                                          #Uses if i in wrs.index and if i in tes.index to ensure the correct variables are referenced.\n",
        "\n",
        "        # Add the constraint\n",
        "        model.x.qb_wr_te_stacking.add(qb_selected <= wr_te_selected)\n"
      ],
      "metadata": {
        "id": "1_lGfUr0DffZ"
      },
      "execution_count": null,
      "outputs": []
    },
    {
      "cell_type": "markdown",
      "source": [
        "###Consistency-Based Player Selection\n",
        "\n",
        " Why? Instead of just selecting players with the highest fantasy points, we ensure that at least some players have consistent performance rather than being \"boom-or-bust.\"\n",
        "\n",
        " How? Use the Fantasy Points per Game (AvgPointsPerGame) column to ensure that at least 4 players have an average above a set threshold (e.g., 10 points per game)."
      ],
      "metadata": {
        "id": "dMEhLVGtJ3BJ"
      }
    },
    {
      "cell_type": "code",
      "source": [
        "# Define a threshold for \"consistent\" players\n",
        "consistency_threshold = 10  # Players must average at least 10 fantasy points per game\n",
        "\n",
        "# Identify players who meet this threshold\n",
        "consistent_players = offense_season[offense_season['AvgPointsPerGame'] >= consistency_threshold].index.tolist()"
      ],
      "metadata": {
        "id": "qO7O-ZBhKYw2"
      },
      "execution_count": null,
      "outputs": []
    },
    {
      "cell_type": "code",
      "source": [
        "# Constraint: At least 4 selected players must have AvgPointsPerGame >= consistency_threshold\n",
        "def high_floor_player_selection_rule(x):\n",
        "    consistent_players_selected = (\n",
        "        sum(model.x.qb_vars[i] for i in qbs.index if i in consistent_players) + #checks how many players meet the consisten_players threshhold defined above\n",
        "        sum(model.x.rb_vars[i] for i in rbs.index if i in consistent_players) +\n",
        "        sum(model.x.wr_vars[i] for i in wrs.index if i in consistent_players) +\n",
        "        sum(model.x.te_vars[i] for i in tes.index if i in consistent_players) +\n",
        "        sum(model.x.flex_vars[i] for i in flex_players.index if i in consistent_players)\n",
        "    )\n",
        "    return consistent_players_selected >= 4  # Require at least 4 consistent players\n",
        "\n",
        "model.x.high_floor_player_selection = pe.Constraint(rule=high_floor_player_selection_rule)"
      ],
      "metadata": {
        "id": "pGRAcJnMKc90"
      },
      "execution_count": null,
      "outputs": []
    },
    {
      "cell_type": "code",
      "source": [
        "# Solve the model using appsi_highs\n",
        "opt = SolverFactory('appsi_highs')\n",
        "results = opt.solve(model.x)"
      ],
      "metadata": {
        "id": "xF1aH4wKZ4G9"
      },
      "execution_count": null,
      "outputs": []
    },
    {
      "cell_type": "code",
      "source": [
        "# Extract the chosen players from the solution\n",
        "chosen_players = []\n",
        "\n",
        "for i in qbs.index:\n",
        "    if model.x.qb_vars[i].value == 1:\n",
        "        chosen_players.append((qbs.loc[i, 'Player'], 'QB'))\n",
        "\n",
        "for i in rbs.index:\n",
        "    if model.x.rb_vars[i].value == 1:\n",
        "        chosen_players.append((rbs.loc[i, 'Player'], 'RB'))\n",
        "\n",
        "for i in wrs.index:\n",
        "    if model.x.wr_vars[i].value == 1:\n",
        "        chosen_players.append((wrs.loc[i, 'Player'], 'WR'))\n",
        "\n",
        "for i in tes.index:\n",
        "    if model.x.te_vars[i].value == 1:\n",
        "        chosen_players.append((tes.loc[i, 'Player'], 'TE'))\n",
        "\n",
        "for i in flex_players.index:\n",
        "    if model.x.flex_vars[i].value == 1:\n",
        "        chosen_players.append((flex_players.loc[i, 'Player'], flex_players.loc[i, 'Position']))\n",
        "\n",
        "for i in dsts.index:\n",
        "    if model.x.dst_vars[i].value == 1:\n",
        "        chosen_players.append((dsts.loc[i, 'Team'], 'DST'))\n",
        "\n",
        "# Print the chosen players\n",
        "for player, position in chosen_players:\n",
        "    print(f\"{player} ({position})\")\n"
      ],
      "metadata": {
        "colab": {
          "base_uri": "https://localhost:8080/"
        },
        "id": "1ZP7eP7Sn0l3",
        "outputId": "16f29da6-5f06-44ac-f044-5a1986d3ee34"
      },
      "execution_count": null,
      "outputs": [
        {
          "output_type": "stream",
          "name": "stdout",
          "text": [
            "claytontune (QB)\n",
            "devonachane (RB)\n",
            "javontewilliams (RB)\n",
            "jamarrchase (WR)\n",
            "maliknabers (WR)\n",
            "wandalerobinson (WR)\n",
            "treymcbride (TE)\n",
            "wandalerobinson (FLEX)\n",
            "broncos (DST)\n"
          ]
        }
      ]
    },
    {
      "cell_type": "code",
      "source": [
        "# Access the objective function value (maximum fantasy points + average points scored)\n",
        "max_fantasy_points = model.x.objective()\n",
        "\n",
        "print(f\"Maximum Projected Fantasy Points: {max_fantasy_points}\")"
      ],
      "metadata": {
        "colab": {
          "base_uri": "https://localhost:8080/"
        },
        "id": "i1FFrb6Mn9xt",
        "outputId": "cc61c1e7-5384-401e-d142-6cf91a7fefec"
      },
      "execution_count": null,
      "outputs": [
        {
          "output_type": "stream",
          "name": "stdout",
          "text": [
            "Maximum Projected Fantasy Points: 669.53\n"
          ]
        }
      ]
    },
    {
      "cell_type": "markdown",
      "source": [
        "##Now lets run this model and these constraints but test it with the week 17 data"
      ],
      "metadata": {
        "id": "lYuEaGS2LQj2"
      }
    },
    {
      "cell_type": "code",
      "source": [
        "# Filter players by position\n",
        "qbs = offense_week17[offense_week17['Position'] == 'QB']\n",
        "rbs = offense_week17[offense_week17['Position'] == 'RB']\n",
        "wrs = offense_week17[offense_week17['Position'] == 'WR']\n",
        "tes = offense_week17[offense_week17['Position'] == 'TE']\n",
        "flex_players = pd.concat([rbs, wrs, tes])\n",
        "flex_players['Position'] = 'FLEX'  # Add a 'Position' column to identify flex players\n",
        "dsts = defense_week17"
      ],
      "metadata": {
        "id": "QQ7HKj2rL3Uw"
      },
      "execution_count": null,
      "outputs": []
    },
    {
      "cell_type": "code",
      "source": [
        "# Create a new optimization model for week 17\n",
        "model_week17 = pe.ConcreteModel()\n",
        "\n",
        "# Define decision variables (similar to the previous model)\n",
        "model_week17.qb_vars = pe.Var(qbs.index, within=pe.Binary)\n",
        "model_week17.rb_vars = pe.Var(rbs.index, within=pe.Binary)\n",
        "model_week17.wr_vars = pe.Var(wrs.index, within=pe.Binary)\n",
        "model_week17.te_vars = pe.Var(tes.index, within=pe.Binary)\n",
        "model_week17.flex_vars = pe.Var(flex_players.index, within=pe.Binary)\n",
        "model_week17.dst_vars = pe.Var(dsts.index, within=pe.Binary)\n",
        "\n",
        "# Define the objective function for week 17\n",
        "def objective_rule_week17(model):\n",
        "    return sum(model.qb_vars[i] * qbs.loc[i, 'FantasyPoints'] for i in qbs.index) + \\\n",
        "           sum(model.rb_vars[i] * rbs.loc[i, 'FantasyPoints'] for i in rbs.index) + \\\n",
        "           sum(model.wr_vars[i] * wrs.loc[i, 'FantasyPoints'] for i in wrs.index) + \\\n",
        "           sum(model.te_vars[i] * tes.loc[i, 'FantasyPoints'] for i in tes.index) + \\\n",
        "           sum(model.flex_vars[i] * flex_players.loc[i, 'FantasyPoints'] for i in flex_players.index) + \\\n",
        "           sum(model.dst_vars[i] * dsts.loc[i, 'AvgPointsPerGame'] for i in dsts.index)\n",
        "\n",
        "model_week17.objective = pe.Objective(rule=objective_rule_week17, sense=pe.maximize)"
      ],
      "metadata": {
        "id": "80yF7sk5M8TA"
      },
      "execution_count": null,
      "outputs": []
    },
    {
      "cell_type": "markdown",
      "source": [
        "Constraints (again)"
      ],
      "metadata": {
        "id": "7eisrA4dO2j1"
      }
    },
    {
      "cell_type": "code",
      "source": [
        "# Constraint: Each player can only be selected once (modified for FLEX)\n",
        "def player_uniqueness_rule(model_week17):\n",
        "    all_players = set(qbs['Player']).union(set(rbs['Player']), set(wrs['Player']), set(tes['Player']))\n",
        "    for player in all_players:\n",
        "        # Count selections across all positions, including FLEX\n",
        "        selected_count = sum(model_week17.qb_vars[i] for i in qbs.index if qbs.loc[i, 'Player'] == player) + \\\n",
        "                         sum(model_week17.rb_vars[i] for i in rbs.index if rbs.loc[i, 'Player'] == player) + \\\n",
        "                         sum(model_week17.wr_vars[i] for i in wrs.index if wrs.loc[i, 'Player'] == player) + \\\n",
        "                         sum(model_week17.te_vars[i] for i in tes.index if tes.loc[i, 'Player'] == player) + \\\n",
        "                         sum(model_week17.flex_vars[i] for i in flex_players.index if flex_players.loc[i, 'Player'] == player)\n",
        "\n",
        "        # Constraint for each player to be selected at most once\n",
        "        model_week17.add_component(f'player_uniqueness_constraint_{player}', pe.Constraint(expr=selected_count <= 1))\n",
        "\n",
        "    # Defense\n",
        "    for player in set(dsts['Player']):\n",
        "        model_week17.add_component(f'player_uniqueness_constraint_dst_{player}', pe.Constraint(expr=sum(model_week17.dst_vars[i] for i in dsts.index if dsts.loc[i, 'Player'] == player) <= 1))\n",
        "\n",
        "    return Constraint.Feasible\n",
        "\n",
        "model_week17.player_uniqueness_constraint = pe.Constraint(rule=player_uniqueness_rule)"
      ],
      "metadata": {
        "id": "7A5t77TYgTp9"
      },
      "execution_count": null,
      "outputs": []
    },
    {
      "cell_type": "code",
      "source": [
        "# Define constraints for the number of players at each position\n",
        "model_week17.qbs_constraint = pe.Constraint(expr=sum(model_week17.qb_vars[i] for i in qbs.index) == 1)\n",
        "model_week17.rbs_constraint = pe.Constraint(expr=sum(model_week17.rb_vars[i] for i in rbs.index) == 2)\n",
        "model_week17.wrs_constraint = pe.Constraint(expr=sum(model_week17.wr_vars[i] for i in wrs.index) == 3)\n",
        "model_week17.tes_constraint = pe.Constraint(expr=sum(model_week17.te_vars[i] for i in tes.index) == 1)\n",
        "model_week17.flex_constraint = pe.Constraint(expr=sum(model_week17.flex_vars[i] for i in flex_players.index) == 1)\n",
        "model_week17.dsts_constraint = pe.Constraint(expr=sum(model_week17.dst_vars[i] for i in dsts.index) == 1)\n",
        "\n",
        "#Total players constraint\n",
        "model_week17.total_players = pe.Constraint(expr=sum(model_week17.qb_vars[i] for i in qbs.index) +\n",
        "                                     sum(model_week17.rb_vars[i] for i in rbs.index) +\n",
        "                                     sum(model_week17.wr_vars[i] for i in wrs.index) +\n",
        "                                     sum(model_week17.te_vars[i] for i in tes.index) +\n",
        "                                     sum(model_week17.flex_vars[i] for i in flex_players.index) +\n",
        "                                     sum(model_week17.dst_vars[i] for i in dsts.index) == 9)\n"
      ],
      "metadata": {
        "id": "zjd8zETiO116"
      },
      "execution_count": null,
      "outputs": []
    },
    {
      "cell_type": "code",
      "source": [
        "# Define the salary cap constraint\n",
        "model_week17.salary_cap = pe.Constraint(expr=sum(model_week17.qb_vars[i] * qbs.loc[i, 'Salary'] for i in qbs.index) +\n",
        "                                     sum(model_week17.rb_vars[i] * rbs.loc[i, 'Salary'] for i in rbs.index) +\n",
        "                                     sum(model_week17.wr_vars[i] * wrs.loc[i, 'Salary'] for i in wrs.index) +\n",
        "                                     sum(model_week17.te_vars[i] * tes.loc[i, 'Salary'] for i in tes.index) +\n",
        "                                     sum(model_week17.flex_vars[i] * flex_players.loc[i, 'Salary'] for i in flex_players.index) +\n",
        "                                     sum(model_week17.dst_vars[i] * dsts.loc[i, 'Salary'] for i in dsts.index) <= 50000)"
      ],
      "metadata": {
        "id": "qpEj2J9TPJCf"
      },
      "execution_count": null,
      "outputs": []
    },
    {
      "cell_type": "code",
      "source": [
        "# Create a set of unique game IDs from the 'Game Info' column\n",
        "games = set()\n",
        "for index, row in offense_week17.iterrows():\n",
        "    games.add(row['Game Info'])\n",
        "for index, row in defense_week17.iterrows():\n",
        "    games.add(row['Game Info'])\n",
        "game_list = list(games)\n",
        "game_index = range(len(game_list))\n",
        "game_map = dict(zip(game_list, game_index))\n",
        "\n",
        "\n",
        "# Constraint: At least 2 different games represented\n",
        "model_week17.game_constraint = pe.Constraint(expr=sum(model_week17.qb_vars[i] * game_map[offense_season.loc[i, 'Game Info']] for i in qbs.index) +\n",
        "                                        sum(model_week17.rb_vars[i] * game_map[offense_season.loc[i, 'Game Info']] for i in rbs.index) +\n",
        "                                        sum(model_week17.wr_vars[i] * game_map[offense_season.loc[i, 'Game Info']] for i in wrs.index) +\n",
        "                                        sum(model_week17.te_vars[i] * game_map[offense_season.loc[i, 'Game Info']] for i in tes.index) +\n",
        "                                        sum(model_week17.flex_vars[i] * game_map[offense_season.loc[i, 'Game Info']] for i in flex_players.index) +\n",
        "                                        sum(model_week17.dst_vars[i] * game_map[defense_season.loc[i, 'Game Info']] for i in dsts.index) >= 2 )\n"
      ],
      "metadata": {
        "id": "m_ywhoaHPQZE"
      },
      "execution_count": null,
      "outputs": []
    },
    {
      "cell_type": "markdown",
      "source": [
        "My constraints"
      ],
      "metadata": {
        "id": "QTLJ4k_rPc-x"
      }
    },
    {
      "cell_type": "code",
      "source": [
        "offense_week17.columns"
      ],
      "metadata": {
        "colab": {
          "base_uri": "https://localhost:8080/"
        },
        "id": "oGfQROUDRoTW",
        "outputId": "b3dce59a-cec8-414a-ddac-19eb372879d0"
      },
      "execution_count": null,
      "outputs": [
        {
          "output_type": "execute_result",
          "data": {
            "text/plain": [
              "Index(['Position', 'Name + ID', 'Name', 'ID', 'Roster Position', 'Salary',\n",
              "       'Game Info', 'TeamAbbrev', 'AvgPointsPerGame', 'Player', 'Tm',\n",
              "       'Pass Cmp', 'Pass Att', 'Pass Yds', 'Pass TD', 'Pass Int', 'Pass Sack',\n",
              "       'Pass Sack Yds', 'Pass Long Complete', 'Ruch Att', 'Rush Yds',\n",
              "       'Rush TD', 'Rush Lng', 'Rcv Tgt', 'Rec', 'Rcv Yds', 'Rcv TD', 'Rcv Lng',\n",
              "       'Fmb', 'FL', '2Pt Conversions', 'Ttl Pts Allowed', 'Safety',\n",
              "       'Blocked Kicks', 'Sack', 'Interception', 'Fumble Recovery',\n",
              "       'Punt/Kickoff/FG Return for TD', 'Interception Return TD',\n",
              "       'Fumble Recovery TD', 'Blocked Punt or FG Return TD', 'FantasyPoints'],\n",
              "      dtype='object')"
            ]
          },
          "metadata": {},
          "execution_count": 3344
        }
      ]
    },
    {
      "cell_type": "code",
      "source": [
        "# Calculate interception percentage and adjusted fantasy points\n",
        "# Updated to use the correct column names and calculations\n",
        "offense_week17['Int%'] = offense_week17['Pass Int'] / offense_week17['Pass Att']  # Using 'Pass Int' and 'Pass Att'\n",
        "\n",
        "# Replace any infinite values (from division by 0) with 0\n",
        "offense_week17['Int%'].replace([np.inf, -np.inf], 0, inplace=True)\n",
        "offense_week17['Int%'].fillna(0, inplace=True)  # Replace any remaining NaNs with 0\n",
        "\n",
        "# Calculate adjusted fantasy points\n",
        "offense_week17['AdjustedFantasyPoints'] = offense_week17['FantasyPoints'] * (1 - (offense_week17['Int%'] / 10))\n",
        "\n",
        "# Identify the top 10% of QBs by interception rate\n",
        "top_10_percent_int_qbs = offense_week17[offense_week17['Position'] == 'QB'].nlargest(int(0.1 * len(offense_week17[offense_week17['Position'] == 'QB'])), 'Int%')\n",
        "\n",
        "# Constraint: Exclude QBs in the top 10% of interception rates\n",
        "model_week17.interception_constraint = pe.Constraint(expr=sum(model_week17.qb_vars[i] for i in top_10_percent_int_qbs.index) == 0)"
      ],
      "metadata": {
        "colab": {
          "base_uri": "https://localhost:8080/"
        },
        "id": "RcQ4Y2BtPcTH",
        "outputId": "af49a133-1dd1-45f5-8d4e-b36ad95ed4ad"
      },
      "execution_count": null,
      "outputs": [
        {
          "output_type": "stream",
          "name": "stderr",
          "text": [
            "<ipython-input-3345-ce98ca0d7cfd>:6: FutureWarning: A value is trying to be set on a copy of a DataFrame or Series through chained assignment using an inplace method.\n",
            "The behavior will change in pandas 3.0. This inplace method will never work because the intermediate object on which we are setting values always behaves as a copy.\n",
            "\n",
            "For example, when doing 'df[col].method(value, inplace=True)', try using 'df.method({col: value}, inplace=True)' or df[col] = df[col].method(value) instead, to perform the operation inplace on the original object.\n",
            "\n",
            "\n",
            "  offense_week17['Int%'].replace([np.inf, -np.inf], 0, inplace=True)\n",
            "<ipython-input-3345-ce98ca0d7cfd>:7: FutureWarning: A value is trying to be set on a copy of a DataFrame or Series through chained assignment using an inplace method.\n",
            "The behavior will change in pandas 3.0. This inplace method will never work because the intermediate object on which we are setting values always behaves as a copy.\n",
            "\n",
            "For example, when doing 'df[col].method(value, inplace=True)', try using 'df.method({col: value}, inplace=True)' or df[col] = df[col].method(value) instead, to perform the operation inplace on the original object.\n",
            "\n",
            "\n",
            "  offense_week17['Int%'].fillna(0, inplace=True)  # Replace any remaining NaNs with 0\n"
          ]
        }
      ]
    },
    {
      "cell_type": "markdown",
      "source": [
        "changed to work with TeamAbbrev column instead of team column"
      ],
      "metadata": {
        "id": "TC2DT8mbSVMR"
      }
    },
    {
      "cell_type": "code",
      "source": [
        "# Constraint: If a QB is selected, at least one WR or TE from the same team must also be selected\n",
        "model_week17.qb_wr_te_stacking = pe.ConstraintList()\n",
        "\n",
        "for team_abbrev in offense_week17['TeamAbbrev'].unique():\n",
        "    qb_indices = [i for i in qbs.index if qbs.loc[i, 'TeamAbbrev'] == team_abbrev]\n",
        "    wr_te_indices = [i for i in wrs.index if wrs.loc[i, 'TeamAbbrev'] == team_abbrev] + \\\n",
        "                    [i for i in tes.index if tes.loc[i, 'TeamAbbrev'] == team_abbrev]\n",
        "\n",
        "    # Only apply the constraint if both QBs and WR/TEs exist for this team abbreviation\n",
        "    if qb_indices and wr_te_indices:\n",
        "        qb_selected = sum(model_week17.qb_vars[i] for i in qb_indices)\n",
        "        wr_te_selected = sum(model_week17.wr_vars[i] for i in wr_te_indices if i in wrs.index) + \\\n",
        "                         sum(model_week17.te_vars[i] for i in wr_te_indices if i in tes.index)\n",
        "\n",
        "        # Add the constraint\n",
        "        model_week17.qb_wr_te_stacking.add(qb_selected <= wr_te_selected)\n"
      ],
      "metadata": {
        "id": "YtE7vUEVPwsl"
      },
      "execution_count": null,
      "outputs": []
    },
    {
      "cell_type": "code",
      "source": [
        "# Define a threshold for \"consistent\" players\n",
        "consistency_threshold = 10  # Players must average at least 10 fantasy points per game\n",
        "\n",
        "# Identify players who meet this threshold\n",
        "consistent_players = offense_week17[offense_season['AvgPointsPerGame'] >= consistency_threshold].index.tolist()"
      ],
      "metadata": {
        "colab": {
          "base_uri": "https://localhost:8080/"
        },
        "id": "Czi2xcRyQMci",
        "outputId": "fb3e0e62-1032-4ad1-aae3-5ef28e00084e"
      },
      "execution_count": null,
      "outputs": [
        {
          "output_type": "stream",
          "name": "stderr",
          "text": [
            "<ipython-input-3347-ea16db53e704>:5: UserWarning: Boolean Series key will be reindexed to match DataFrame index.\n",
            "  consistent_players = offense_week17[offense_season['AvgPointsPerGame'] >= consistency_threshold].index.tolist()\n"
          ]
        }
      ]
    },
    {
      "cell_type": "code",
      "source": [
        "# Constraint: At least 4 selected players must have AvgPointsPerGame >= consistency_threshold\n",
        "def high_floor_player_selection_rule(x):\n",
        "    consistent_players_selected = (\n",
        "        sum(model_week17.qb_vars[i] for i in qbs.index if i in consistent_players) +\n",
        "        sum(model_week17.rb_vars[i] for i in rbs.index if i in consistent_players) +\n",
        "        sum(model_week17.wr_vars[i] for i in wrs.index if i in consistent_players) +\n",
        "        sum(model_week17.te_vars[i] for i in tes.index if i in consistent_players) +\n",
        "        sum(model_week17.flex_vars[i] for i in flex_players.index if i in consistent_players)\n",
        "    )\n",
        "    return consistent_players_selected >= 4  # Require at least 4 consistent players\n",
        "\n",
        "model_week17.high_floor_player_selection = pe.Constraint(rule=high_floor_player_selection_rule)"
      ],
      "metadata": {
        "id": "Ut00zV1ZQRRA"
      },
      "execution_count": null,
      "outputs": []
    },
    {
      "cell_type": "code",
      "source": [
        "# Solve the week 17 model\n",
        "opt = SolverFactory('appsi_highs')\n",
        "results_week17 = opt.solve(model_week17)\n"
      ],
      "metadata": {
        "id": "_n7X9lGhOyn2"
      },
      "execution_count": null,
      "outputs": []
    },
    {
      "cell_type": "code",
      "source": [
        "# Extract the chosen players from the solution for week 17\n",
        "chosen_players_week17 = []\n",
        "for i in qbs.index:\n",
        "    if model_week17.qb_vars[i].value == 1:\n",
        "        chosen_players_week17.append((qbs.loc[i, 'Player'], 'QB'))\n",
        "for i in rbs.index:\n",
        "    if model_week17.rb_vars[i].value == 1:\n",
        "        chosen_players_week17.append((rbs.loc[i, 'Player'], 'RB'))\n",
        "for i in wrs.index:\n",
        "    if model_week17.wr_vars[i].value == 1:\n",
        "        chosen_players_week17.append((wrs.loc[i, 'Player'], 'WR'))\n",
        "for i in tes.index:\n",
        "    if model_week17.te_vars[i].value == 1:\n",
        "        chosen_players_week17.append((tes.loc[i, 'Player'], 'TE'))\n",
        "for i in flex_players.index:\n",
        "    if model_week17.flex_vars[i].value == 1:\n",
        "        chosen_players_week17.append((flex_players.loc[i, 'Player'], flex_players.loc[i, 'Position']))\n",
        "for i in dsts.index:\n",
        "    if model_week17.dst_vars[i].value == 1:\n",
        "        chosen_players_week17.append((dsts.loc[i, 'TeamAbbrev'], 'DST'))\n",
        "\n",
        "# Print the chosen players for week 17\n",
        "for player, position in chosen_players_week17:\n",
        "    print(f\"{player} ({position})\")\n"
      ],
      "metadata": {
        "colab": {
          "base_uri": "https://localhost:8080/"
        },
        "id": "l6QiOIVfQs-B",
        "outputId": "6faae163-d769-4d58-df2a-034d1a9373dc"
      },
      "execution_count": null,
      "outputs": [
        {
          "output_type": "stream",
          "name": "stdout",
          "text": [
            "drewlock (QB)\n",
            "jonathantaylor (RB)\n",
            "buckyirving (RB)\n",
            "teehiggins (WR)\n",
            "maliknabers (WR)\n",
            "rickypearsall (WR)\n",
            "treymcbride (TE)\n",
            "zachertz (FLEX)\n",
            "DEN (DST)\n"
          ]
        }
      ]
    },
    {
      "cell_type": "code",
      "source": [
        "# Access the objective function value (maximum fantasy points + average points scored)\n",
        "max_fantasy_points = model_week17.objective()\n",
        "\n",
        "print(f\"Maximum Projected Fantasy Points: {max_fantasy_points}\")"
      ],
      "metadata": {
        "colab": {
          "base_uri": "https://localhost:8080/"
        },
        "id": "0vf_Y05bShzi",
        "outputId": "ba4464a1-ffd7-4bce-93f7-7e05d5f2b823"
      },
      "execution_count": null,
      "outputs": [
        {
          "output_type": "stream",
          "name": "stdout",
          "text": [
            "Maximum Projected Fantasy Points: 277.89\n"
          ]
        }
      ]
    },
    {
      "cell_type": "code",
      "source": [
        "#print out the total slary used in the model_week17\n",
        "\n",
        "total_salary_week17 = sum(model_week17.qb_vars[i].value * qbs.loc[i, 'Salary'] for i in qbs.index) + \\\n",
        "                      sum(model_week17.rb_vars[i].value * rbs.loc[i, 'Salary'] for i in rbs.index) + \\\n",
        "                      sum(model_week17.wr_vars[i].value * wrs.loc[i, 'Salary'] for i in wrs.index) + \\\n",
        "                      sum(model_week17.te_vars[i].value * tes.loc[i, 'Salary'] for i in tes.index) + \\\n",
        "                      sum(model_week17.flex_vars[i].value * flex_players.loc[i, 'Salary'] for i in flex_players.index) + \\\n",
        "                      sum(model_week17.dst_vars[i].value * dsts.loc[i, 'Salary'] for i in dsts.index)\n",
        "\n",
        "print(f\"Total Salary Used in model_week17: {total_salary_week17}\")\n"
      ],
      "metadata": {
        "colab": {
          "base_uri": "https://localhost:8080/"
        },
        "id": "980sr3AeSp1E",
        "outputId": "9ef7b3e7-aa91-4c80-bda2-7be522a57970"
      },
      "execution_count": null,
      "outputs": [
        {
          "output_type": "stream",
          "name": "stdout",
          "text": [
            "Total Salary Used in model_week17: 50000.0\n"
          ]
        }
      ]
    },
    {
      "cell_type": "markdown",
      "source": [
        "#Yay we did it! We answered both questions using all our constraints and following all the rules! Now go pick your fantasy football team!"
      ],
      "metadata": {
        "id": "X6zUfGxqeAXV"
      }
    }
  ]
}